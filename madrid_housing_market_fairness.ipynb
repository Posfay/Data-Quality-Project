{
 "cells": [
  {
   "cell_type": "markdown",
   "metadata": {},
   "source": [
    "# Imports"
   ]
  },
  {
   "cell_type": "code",
   "execution_count": 27,
   "metadata": {},
   "outputs": [],
   "source": [
    "import os\n",
    "import numpy as np\n",
    "import pandas as pd\n",
    "import matplotlib.pyplot as plt\n",
    "# from ydata_profiling import ProfileReport\n",
    "# from ydata_quality import DataQuality\n",
    "# from ydata_quality.erroneous_data import ErroneousDataIdentifier\n",
    "# from ydata_quality.duplicates import DuplicateChecker\n",
    "# from ydata_quality.missings import MissingsProfiler\n",
    "import great_expectations as gx"
   ]
  },
  {
   "cell_type": "markdown",
   "metadata": {},
   "source": [
    "# EDA"
   ]
  },
  {
   "cell_type": "markdown",
   "metadata": {},
   "source": [
    "## Madrid"
   ]
  },
  {
   "cell_type": "markdown",
   "metadata": {},
   "source": [
    "### Loading the data"
   ]
  },
  {
   "cell_type": "code",
   "execution_count": 2,
   "metadata": {},
   "outputs": [],
   "source": [
    "df = pd.read_csv('houses_Madrid.csv')\n",
    "# df.head()"
   ]
  },
  {
   "cell_type": "markdown",
   "metadata": {},
   "source": [
    "### Dropping empty columns"
   ]
  },
  {
   "cell_type": "code",
   "execution_count": 3,
   "metadata": {},
   "outputs": [],
   "source": [
    "empty_cols = [col for col in df.columns if df[col].isnull().all()]\n",
    "df = df.drop(empty_cols, axis=1)\n",
    "# df.info()"
   ]
  },
  {
   "cell_type": "markdown",
   "metadata": {},
   "source": [
    "### Handling boolean columns"
   ]
  },
  {
   "cell_type": "code",
   "execution_count": 4,
   "metadata": {},
   "outputs": [],
   "source": [
    "# Bool columns\n",
    "columns_bool = [\n",
    "    'is_exact_address_hidden',\n",
    "    'is_renewal_needed',\n",
    "    'has_parking'\n",
    "]\n",
    "\n",
    "# Columns with TRUE/FALSE/blank\n",
    "columns_true_false_blank = [\n",
    "    'is_floor_under',\n",
    "    'is_new_development',\n",
    "    'has_central_heating',\n",
    "    'has_individual_heating',\n",
    "    'has_lift',\n",
    "    'is_parking_included_in_price',\n",
    "    'is_orientation_north',\n",
    "    'is_orientation_west',\n",
    "    'is_orientation_south',\n",
    "    'is_orientation_east'\n",
    "]\n",
    "\n",
    "# Columns with TRUE/blank\n",
    "columns_true_blank = [\n",
    "    'has_ac',\n",
    "    'has_fitted_wardrobes',\n",
    "    'is_exterior',\n",
    "    'has_garden',\n",
    "    'has_pool',\n",
    "    'has_terrace',\n",
    "    'has_balcony',\n",
    "    'has_storage_room',\n",
    "    'is_accessible',\n",
    "    'has_green_zones'\n",
    "]"
   ]
  },
  {
   "cell_type": "code",
   "execution_count": 5,
   "metadata": {},
   "outputs": [],
   "source": [
    "# Mapping function for boolean columns\n",
    "def map_bool(val):\n",
    "    if val == True:\n",
    "        return 1\n",
    "    else:\n",
    "        return 0\n",
    "\n",
    "# Mapping function for TRUE/FALSE/blank columns\n",
    "def map_true_false_blank(val):\n",
    "    if np.isnan(val):\n",
    "        return np.nan\n",
    "    elif val == True:\n",
    "        return 1\n",
    "    else:\n",
    "        return 0\n",
    "\n",
    "# Mapping function for TRUE/blank columns\n",
    "def map_true_blank(val):\n",
    "    if val == True:\n",
    "        return 1\n",
    "    else:\n",
    "        return 0"
   ]
  },
  {
   "cell_type": "code",
   "execution_count": 6,
   "metadata": {},
   "outputs": [],
   "source": [
    "# print the head of the columns_true_false_blank\n",
    "# df[columns_true_false_blank].head()"
   ]
  },
  {
   "cell_type": "code",
   "execution_count": 7,
   "metadata": {},
   "outputs": [],
   "source": [
    "# Apply mappings\n",
    "for col in columns_bool:\n",
    "    df[col] = df[col].map(map_bool)\n",
    "\n",
    "for col in columns_true_false_blank:\n",
    "    df[col] = df[col].map(map_true_false_blank)\n",
    "\n",
    "for col in columns_true_blank:\n",
    "    df[col] = df[col].map(map_true_blank)"
   ]
  },
  {
   "cell_type": "code",
   "execution_count": 8,
   "metadata": {},
   "outputs": [],
   "source": [
    "# df.info()"
   ]
  },
  {
   "cell_type": "markdown",
   "metadata": {},
   "source": [
    "### Handling categorical columns"
   ]
  },
  {
   "cell_type": "code",
   "execution_count": 9,
   "metadata": {},
   "outputs": [],
   "source": [
    "# df['neighborhood_id'].value_counts()"
   ]
  },
  {
   "cell_type": "code",
   "execution_count": 10,
   "metadata": {},
   "outputs": [],
   "source": [
    "# extract the neighborhood name, and the district name from the neighborhood_id\n",
    "chop = df['neighborhood_id'].str.extract(r'Neighborhood (\\d+): (.*?) \\(.*\\) - District (\\d+): (.*)')\n",
    "df['neighborhood'] = chop[1]+ ' ' + chop[0]\n",
    "df['district'] = chop[3] + ' ' + chop[2]\n",
    "df.drop(axis=1, columns=['neighborhood_id'], inplace=True)\n",
    "# df[['neighborhood', 'district']].head()"
   ]
  },
  {
   "cell_type": "code",
   "execution_count": 11,
   "metadata": {},
   "outputs": [],
   "source": [
    "# Categorical columns\n",
    "columns_categorical = [\n",
    "    'neighborhood',\n",
    "    'district',\n",
    "    'house_type_id',\n",
    "    'energy_certificate',\n",
    "]\n",
    "\n",
    "columns_categorical += columns_bool\n",
    "columns_categorical += columns_true_false_blank\n",
    "columns_categorical += columns_true_blank"
   ]
  },
  {
   "cell_type": "code",
   "execution_count": 12,
   "metadata": {},
   "outputs": [],
   "source": [
    "# Convert to categorical\n",
    "df[columns_categorical] = df[columns_categorical].astype('category')\n",
    "# df.info()"
   ]
  },
  {
   "cell_type": "markdown",
   "metadata": {},
   "source": [
    "### Creating column lists"
   ]
  },
  {
   "cell_type": "code",
   "execution_count": 13,
   "metadata": {},
   "outputs": [],
   "source": [
    "# create a list of column names that are not numerical\n",
    "non_numerical_columns = df.select_dtypes(include=['object']).columns.to_list()\n",
    "\n",
    "# create a list of column names that are int64 or float64 and exclude the 'id' column\n",
    "numerical_columns = df.select_dtypes(include=['int64', 'float64']).columns.to_list()\n",
    "numerical_columns.remove('id')\n",
    "\n",
    "# create a list of column names that are categorical\n",
    "categorical_columns = df.select_dtypes(include=['category']).columns.to_list()"
   ]
  },
  {
   "cell_type": "code",
   "execution_count": 14,
   "metadata": {},
   "outputs": [
    {
     "data": {
      "text/html": [
       "<div>\n",
       "<style scoped>\n",
       "    .dataframe tbody tr th:only-of-type {\n",
       "        vertical-align: middle;\n",
       "    }\n",
       "\n",
       "    .dataframe tbody tr th {\n",
       "        vertical-align: top;\n",
       "    }\n",
       "\n",
       "    .dataframe thead th {\n",
       "        text-align: right;\n",
       "    }\n",
       "</style>\n",
       "<table border=\"1\" class=\"dataframe\">\n",
       "  <thead>\n",
       "    <tr style=\"text-align: right;\">\n",
       "      <th></th>\n",
       "      <th>sq_mt_built</th>\n",
       "      <th>sq_mt_useful</th>\n",
       "      <th>n_rooms</th>\n",
       "      <th>n_bathrooms</th>\n",
       "      <th>n_floors</th>\n",
       "      <th>sq_mt_allotment</th>\n",
       "      <th>rent_price</th>\n",
       "      <th>buy_price</th>\n",
       "      <th>buy_price_by_area</th>\n",
       "      <th>built_year</th>\n",
       "      <th>parking_price</th>\n",
       "    </tr>\n",
       "  </thead>\n",
       "  <tbody>\n",
       "    <tr>\n",
       "      <th>count</th>\n",
       "      <td>21616.000000</td>\n",
       "      <td>8228.000000</td>\n",
       "      <td>21742.000000</td>\n",
       "      <td>21726.000000</td>\n",
       "      <td>1437.000000</td>\n",
       "      <td>1432.000000</td>\n",
       "      <td>2.174200e+04</td>\n",
       "      <td>2.174200e+04</td>\n",
       "      <td>21742.000000</td>\n",
       "      <td>10000.000000</td>\n",
       "      <td>7719.000000</td>\n",
       "    </tr>\n",
       "    <tr>\n",
       "      <th>mean</th>\n",
       "      <td>146.920892</td>\n",
       "      <td>103.458192</td>\n",
       "      <td>3.005749</td>\n",
       "      <td>2.091687</td>\n",
       "      <td>3.128740</td>\n",
       "      <td>241.692737</td>\n",
       "      <td>-5.917031e+04</td>\n",
       "      <td>6.537356e+05</td>\n",
       "      <td>4020.523871</td>\n",
       "      <td>1970.046400</td>\n",
       "      <td>2658.000518</td>\n",
       "    </tr>\n",
       "    <tr>\n",
       "      <th>std</th>\n",
       "      <td>134.181865</td>\n",
       "      <td>88.259192</td>\n",
       "      <td>1.510497</td>\n",
       "      <td>1.406992</td>\n",
       "      <td>0.907713</td>\n",
       "      <td>247.484853</td>\n",
       "      <td>9.171162e+05</td>\n",
       "      <td>7.820821e+05</td>\n",
       "      <td>1908.418774</td>\n",
       "      <td>69.386705</td>\n",
       "      <td>13360.966258</td>\n",
       "    </tr>\n",
       "    <tr>\n",
       "      <th>min</th>\n",
       "      <td>13.000000</td>\n",
       "      <td>1.000000</td>\n",
       "      <td>0.000000</td>\n",
       "      <td>1.000000</td>\n",
       "      <td>1.000000</td>\n",
       "      <td>1.000000</td>\n",
       "      <td>-3.459028e+07</td>\n",
       "      <td>3.600000e+04</td>\n",
       "      <td>447.000000</td>\n",
       "      <td>1723.000000</td>\n",
       "      <td>0.000000</td>\n",
       "    </tr>\n",
       "    <tr>\n",
       "      <th>25%</th>\n",
       "      <td>70.000000</td>\n",
       "      <td>59.000000</td>\n",
       "      <td>2.000000</td>\n",
       "      <td>1.000000</td>\n",
       "      <td>2.000000</td>\n",
       "      <td>2.000000</td>\n",
       "      <td>7.250000e+02</td>\n",
       "      <td>1.980000e+05</td>\n",
       "      <td>2551.000000</td>\n",
       "      <td>1957.000000</td>\n",
       "      <td>0.000000</td>\n",
       "    </tr>\n",
       "    <tr>\n",
       "      <th>50%</th>\n",
       "      <td>100.000000</td>\n",
       "      <td>79.000000</td>\n",
       "      <td>3.000000</td>\n",
       "      <td>2.000000</td>\n",
       "      <td>3.000000</td>\n",
       "      <td>232.000000</td>\n",
       "      <td>1.116000e+03</td>\n",
       "      <td>3.750000e+05</td>\n",
       "      <td>3720.000000</td>\n",
       "      <td>1970.000000</td>\n",
       "      <td>0.000000</td>\n",
       "    </tr>\n",
       "    <tr>\n",
       "      <th>75%</th>\n",
       "      <td>162.000000</td>\n",
       "      <td>113.000000</td>\n",
       "      <td>4.000000</td>\n",
       "      <td>2.000000</td>\n",
       "      <td>4.000000</td>\n",
       "      <td>354.000000</td>\n",
       "      <td>1.687000e+03</td>\n",
       "      <td>7.636000e+05</td>\n",
       "      <td>5000.000000</td>\n",
       "      <td>1994.000000</td>\n",
       "      <td>0.000000</td>\n",
       "    </tr>\n",
       "    <tr>\n",
       "      <th>max</th>\n",
       "      <td>999.000000</td>\n",
       "      <td>998.000000</td>\n",
       "      <td>24.000000</td>\n",
       "      <td>16.000000</td>\n",
       "      <td>7.000000</td>\n",
       "      <td>997.000000</td>\n",
       "      <td>2.517000e+03</td>\n",
       "      <td>8.800000e+06</td>\n",
       "      <td>18889.000000</td>\n",
       "      <td>8170.000000</td>\n",
       "      <td>600000.000000</td>\n",
       "    </tr>\n",
       "  </tbody>\n",
       "</table>\n",
       "</div>"
      ],
      "text/plain": [
       "        sq_mt_built  sq_mt_useful       n_rooms   n_bathrooms     n_floors  \\\n",
       "count  21616.000000   8228.000000  21742.000000  21726.000000  1437.000000   \n",
       "mean     146.920892    103.458192      3.005749      2.091687     3.128740   \n",
       "std      134.181865     88.259192      1.510497      1.406992     0.907713   \n",
       "min       13.000000      1.000000      0.000000      1.000000     1.000000   \n",
       "25%       70.000000     59.000000      2.000000      1.000000     2.000000   \n",
       "50%      100.000000     79.000000      3.000000      2.000000     3.000000   \n",
       "75%      162.000000    113.000000      4.000000      2.000000     4.000000   \n",
       "max      999.000000    998.000000     24.000000     16.000000     7.000000   \n",
       "\n",
       "       sq_mt_allotment    rent_price     buy_price  buy_price_by_area  \\\n",
       "count      1432.000000  2.174200e+04  2.174200e+04       21742.000000   \n",
       "mean        241.692737 -5.917031e+04  6.537356e+05        4020.523871   \n",
       "std         247.484853  9.171162e+05  7.820821e+05        1908.418774   \n",
       "min           1.000000 -3.459028e+07  3.600000e+04         447.000000   \n",
       "25%           2.000000  7.250000e+02  1.980000e+05        2551.000000   \n",
       "50%         232.000000  1.116000e+03  3.750000e+05        3720.000000   \n",
       "75%         354.000000  1.687000e+03  7.636000e+05        5000.000000   \n",
       "max         997.000000  2.517000e+03  8.800000e+06       18889.000000   \n",
       "\n",
       "         built_year  parking_price  \n",
       "count  10000.000000    7719.000000  \n",
       "mean    1970.046400    2658.000518  \n",
       "std       69.386705   13360.966258  \n",
       "min     1723.000000       0.000000  \n",
       "25%     1957.000000       0.000000  \n",
       "50%     1970.000000       0.000000  \n",
       "75%     1994.000000       0.000000  \n",
       "max     8170.000000  600000.000000  "
      ]
     },
     "execution_count": 14,
     "metadata": {},
     "output_type": "execute_result"
    }
   ],
   "source": [
    "df[numerical_columns].describe()"
   ]
  },
  {
   "cell_type": "code",
   "execution_count": 15,
   "metadata": {},
   "outputs": [],
   "source": [
    "df_num = df[numerical_columns].copy()\n",
    "df_num_cat = df[numerical_columns + categorical_columns].copy()"
   ]
  },
  {
   "cell_type": "markdown",
   "metadata": {},
   "source": [
    "## Energy Consumption"
   ]
  },
  {
   "cell_type": "markdown",
   "metadata": {},
   "source": [
    "### Loading the data"
   ]
  },
  {
   "cell_type": "code",
   "execution_count": 28,
   "metadata": {},
   "outputs": [],
   "source": [
    "# Loading meta data for each of the houses\n",
    "meta = pd.read_csv('energy_consumption/residential_meta.csv')\n",
    "meta.rename(columns={'House':'HouseID'}, inplace=True)\n",
    "meta.drop(columns=['RUs', 'Cover'], inplace=True)"
   ]
  },
  {
   "cell_type": "code",
   "execution_count": 29,
   "metadata": {},
   "outputs": [],
   "source": [
    "meta['FirstReading'] = pd.to_datetime(meta['FirstReading'])\n",
    "meta['LastReading'] = pd.to_datetime(meta['LastReading'])\n",
    "meta['Duration'] = meta['LastReading'] - meta['FirstReading']\n",
    "meta['Duration'] = meta['Duration'].dt.days"
   ]
  },
  {
   "cell_type": "code",
   "execution_count": 31,
   "metadata": {},
   "outputs": [
    {
     "data": {
      "text/html": [
       "<div>\n",
       "<style scoped>\n",
       "    .dataframe tbody tr th:only-of-type {\n",
       "        vertical-align: middle;\n",
       "    }\n",
       "\n",
       "    .dataframe tbody tr th {\n",
       "        vertical-align: top;\n",
       "    }\n",
       "\n",
       "    .dataframe thead th {\n",
       "        text-align: right;\n",
       "    }\n",
       "</style>\n",
       "<table border=\"1\" class=\"dataframe\">\n",
       "  <thead>\n",
       "    <tr style=\"text-align: right;\">\n",
       "      <th></th>\n",
       "      <th>date</th>\n",
       "      <th>hour</th>\n",
       "      <th>kWh</th>\n",
       "      <th>HouseID</th>\n",
       "      <th>FirstReading</th>\n",
       "      <th>LastReading</th>\n",
       "      <th>HouseType</th>\n",
       "      <th>Facing</th>\n",
       "      <th>Region</th>\n",
       "      <th>FAGF</th>\n",
       "      <th>...</th>\n",
       "      <th>FPE</th>\n",
       "      <th>IFRHG</th>\n",
       "      <th>NAC</th>\n",
       "      <th>FAC</th>\n",
       "      <th>PAC</th>\n",
       "      <th>BHE</th>\n",
       "      <th>IFRHE</th>\n",
       "      <th>WRHIR</th>\n",
       "      <th>GEOTH</th>\n",
       "      <th>Duration</th>\n",
       "    </tr>\n",
       "  </thead>\n",
       "  <tbody>\n",
       "    <tr>\n",
       "      <th>0</th>\n",
       "      <td>2012-06-01</td>\n",
       "      <td>1</td>\n",
       "      <td>1.011</td>\n",
       "      <td>1</td>\n",
       "      <td>2012-06-01</td>\n",
       "      <td>2015-10-03</td>\n",
       "      <td>bungalow</td>\n",
       "      <td>South</td>\n",
       "      <td>YVR</td>\n",
       "      <td>1</td>\n",
       "      <td>...</td>\n",
       "      <td>0</td>\n",
       "      <td>0</td>\n",
       "      <td>0</td>\n",
       "      <td>0</td>\n",
       "      <td>0</td>\n",
       "      <td>0</td>\n",
       "      <td>0</td>\n",
       "      <td>0</td>\n",
       "      <td>0</td>\n",
       "      <td>1219</td>\n",
       "    </tr>\n",
       "    <tr>\n",
       "      <th>1</th>\n",
       "      <td>2012-06-01</td>\n",
       "      <td>2</td>\n",
       "      <td>0.451</td>\n",
       "      <td>1</td>\n",
       "      <td>2012-06-01</td>\n",
       "      <td>2015-10-03</td>\n",
       "      <td>bungalow</td>\n",
       "      <td>South</td>\n",
       "      <td>YVR</td>\n",
       "      <td>1</td>\n",
       "      <td>...</td>\n",
       "      <td>0</td>\n",
       "      <td>0</td>\n",
       "      <td>0</td>\n",
       "      <td>0</td>\n",
       "      <td>0</td>\n",
       "      <td>0</td>\n",
       "      <td>0</td>\n",
       "      <td>0</td>\n",
       "      <td>0</td>\n",
       "      <td>1219</td>\n",
       "    </tr>\n",
       "    <tr>\n",
       "      <th>2</th>\n",
       "      <td>2012-06-01</td>\n",
       "      <td>3</td>\n",
       "      <td>0.505</td>\n",
       "      <td>1</td>\n",
       "      <td>2012-06-01</td>\n",
       "      <td>2015-10-03</td>\n",
       "      <td>bungalow</td>\n",
       "      <td>South</td>\n",
       "      <td>YVR</td>\n",
       "      <td>1</td>\n",
       "      <td>...</td>\n",
       "      <td>0</td>\n",
       "      <td>0</td>\n",
       "      <td>0</td>\n",
       "      <td>0</td>\n",
       "      <td>0</td>\n",
       "      <td>0</td>\n",
       "      <td>0</td>\n",
       "      <td>0</td>\n",
       "      <td>0</td>\n",
       "      <td>1219</td>\n",
       "    </tr>\n",
       "    <tr>\n",
       "      <th>3</th>\n",
       "      <td>2012-06-01</td>\n",
       "      <td>4</td>\n",
       "      <td>0.441</td>\n",
       "      <td>1</td>\n",
       "      <td>2012-06-01</td>\n",
       "      <td>2015-10-03</td>\n",
       "      <td>bungalow</td>\n",
       "      <td>South</td>\n",
       "      <td>YVR</td>\n",
       "      <td>1</td>\n",
       "      <td>...</td>\n",
       "      <td>0</td>\n",
       "      <td>0</td>\n",
       "      <td>0</td>\n",
       "      <td>0</td>\n",
       "      <td>0</td>\n",
       "      <td>0</td>\n",
       "      <td>0</td>\n",
       "      <td>0</td>\n",
       "      <td>0</td>\n",
       "      <td>1219</td>\n",
       "    </tr>\n",
       "    <tr>\n",
       "      <th>4</th>\n",
       "      <td>2012-06-01</td>\n",
       "      <td>5</td>\n",
       "      <td>0.468</td>\n",
       "      <td>1</td>\n",
       "      <td>2012-06-01</td>\n",
       "      <td>2015-10-03</td>\n",
       "      <td>bungalow</td>\n",
       "      <td>South</td>\n",
       "      <td>YVR</td>\n",
       "      <td>1</td>\n",
       "      <td>...</td>\n",
       "      <td>0</td>\n",
       "      <td>0</td>\n",
       "      <td>0</td>\n",
       "      <td>0</td>\n",
       "      <td>0</td>\n",
       "      <td>0</td>\n",
       "      <td>0</td>\n",
       "      <td>0</td>\n",
       "      <td>0</td>\n",
       "      <td>1219</td>\n",
       "    </tr>\n",
       "  </tbody>\n",
       "</table>\n",
       "<p>5 rows × 22 columns</p>\n",
       "</div>"
      ],
      "text/plain": [
       "         date  hour    kWh  HouseID FirstReading LastReading HouseType Facing  \\\n",
       "0  2012-06-01     1  1.011        1   2012-06-01  2015-10-03  bungalow  South   \n",
       "1  2012-06-01     2  0.451        1   2012-06-01  2015-10-03  bungalow  South   \n",
       "2  2012-06-01     3  0.505        1   2012-06-01  2015-10-03  bungalow  South   \n",
       "3  2012-06-01     4  0.441        1   2012-06-01  2015-10-03  bungalow  South   \n",
       "4  2012-06-01     5  0.468        1   2012-06-01  2015-10-03  bungalow  South   \n",
       "\n",
       "  Region  FAGF  ...  FPE  IFRHG  NAC  FAC  PAC  BHE  IFRHE  WRHIR  GEOTH  \\\n",
       "0    YVR     1  ...    0      0    0    0    0    0      0      0      0   \n",
       "1    YVR     1  ...    0      0    0    0    0    0      0      0      0   \n",
       "2    YVR     1  ...    0      0    0    0    0    0      0      0      0   \n",
       "3    YVR     1  ...    0      0    0    0    0    0      0      0      0   \n",
       "4    YVR     1  ...    0      0    0    0    0    0      0      0      0   \n",
       "\n",
       "   Duration  \n",
       "0      1219  \n",
       "1      1219  \n",
       "2      1219  \n",
       "3      1219  \n",
       "4      1219  \n",
       "\n",
       "[5 rows x 22 columns]"
      ]
     },
     "execution_count": 31,
     "metadata": {},
     "output_type": "execute_result"
    }
   ],
   "source": [
    "# Read every csv file in the energy_consumption/Residential folder and before concatenating them, map the meta data to each of the houses using the House ID\n",
    "# and the name of the Residential csv file which is in the format of Residential_<HouseID>.csv\n",
    "dfs = []\n",
    "for file in os.listdir('energy_consumption/Residential'):\n",
    "    edf = pd.read_csv('energy_consumption/Residential/' + file)\n",
    "    edf['HouseID'] = file.split('_')[1].split('.')[0]\n",
    "    edf['HouseID'] = edf['HouseID'].astype('int64')\n",
    "    edf = edf.merge(meta, on='HouseID')\n",
    "    dfs.append(edf)\n",
    "\n",
    "edf = pd.concat(dfs)\n",
    "edf.rename(columns={'energy_kWh': 'kWh'}, inplace=True)\n",
    "edf.head()"
   ]
  },
  {
   "cell_type": "markdown",
   "metadata": {},
   "source": [
    "### Handling categorical columns"
   ]
  },
  {
   "cell_type": "code",
   "execution_count": 33,
   "metadata": {},
   "outputs": [],
   "source": [
    "# Categorical columns\n",
    "e_categorical_columns = [\n",
    "    'HouseID',\n",
    "    'HouseType',\n",
    "    'Facing',\n",
    "    'Region',\n",
    "]"
   ]
  },
  {
   "cell_type": "code",
   "execution_count": 34,
   "metadata": {},
   "outputs": [],
   "source": [
    "# Convert to categorical\n",
    "edf[e_categorical_columns] = edf[e_categorical_columns].astype('category')"
   ]
  },
  {
   "cell_type": "markdown",
   "metadata": {},
   "source": [
    "### Creating column lists"
   ]
  },
  {
   "cell_type": "code",
   "execution_count": 35,
   "metadata": {},
   "outputs": [],
   "source": [
    "e_numerical_columns = ['hour', 'kWh', 'Duration']"
   ]
  },
  {
   "cell_type": "code",
   "execution_count": 36,
   "metadata": {},
   "outputs": [],
   "source": [
    "e_df_num = edf[e_numerical_columns].copy()\n",
    "e_df_num_cat = edf[e_numerical_columns + e_categorical_columns].copy()"
   ]
  },
  {
   "cell_type": "code",
   "execution_count": 37,
   "metadata": {},
   "outputs": [
    {
     "data": {
      "text/html": [
       "<div>\n",
       "<style scoped>\n",
       "    .dataframe tbody tr th:only-of-type {\n",
       "        vertical-align: middle;\n",
       "    }\n",
       "\n",
       "    .dataframe tbody tr th {\n",
       "        vertical-align: top;\n",
       "    }\n",
       "\n",
       "    .dataframe thead th {\n",
       "        text-align: right;\n",
       "    }\n",
       "</style>\n",
       "<table border=\"1\" class=\"dataframe\">\n",
       "  <thead>\n",
       "    <tr style=\"text-align: right;\">\n",
       "      <th></th>\n",
       "      <th>hour</th>\n",
       "      <th>kWh</th>\n",
       "      <th>Duration</th>\n",
       "      <th>HouseID</th>\n",
       "      <th>HouseType</th>\n",
       "      <th>Facing</th>\n",
       "      <th>Region</th>\n",
       "    </tr>\n",
       "  </thead>\n",
       "  <tbody>\n",
       "    <tr>\n",
       "      <th>0</th>\n",
       "      <td>1</td>\n",
       "      <td>1.011</td>\n",
       "      <td>1219</td>\n",
       "      <td>1</td>\n",
       "      <td>bungalow</td>\n",
       "      <td>South</td>\n",
       "      <td>YVR</td>\n",
       "    </tr>\n",
       "    <tr>\n",
       "      <th>1</th>\n",
       "      <td>2</td>\n",
       "      <td>0.451</td>\n",
       "      <td>1219</td>\n",
       "      <td>1</td>\n",
       "      <td>bungalow</td>\n",
       "      <td>South</td>\n",
       "      <td>YVR</td>\n",
       "    </tr>\n",
       "    <tr>\n",
       "      <th>2</th>\n",
       "      <td>3</td>\n",
       "      <td>0.505</td>\n",
       "      <td>1219</td>\n",
       "      <td>1</td>\n",
       "      <td>bungalow</td>\n",
       "      <td>South</td>\n",
       "      <td>YVR</td>\n",
       "    </tr>\n",
       "    <tr>\n",
       "      <th>3</th>\n",
       "      <td>4</td>\n",
       "      <td>0.441</td>\n",
       "      <td>1219</td>\n",
       "      <td>1</td>\n",
       "      <td>bungalow</td>\n",
       "      <td>South</td>\n",
       "      <td>YVR</td>\n",
       "    </tr>\n",
       "    <tr>\n",
       "      <th>4</th>\n",
       "      <td>5</td>\n",
       "      <td>0.468</td>\n",
       "      <td>1219</td>\n",
       "      <td>1</td>\n",
       "      <td>bungalow</td>\n",
       "      <td>South</td>\n",
       "      <td>YVR</td>\n",
       "    </tr>\n",
       "  </tbody>\n",
       "</table>\n",
       "</div>"
      ],
      "text/plain": [
       "   hour    kWh  Duration HouseID HouseType Facing Region\n",
       "0     1  1.011      1219       1  bungalow  South    YVR\n",
       "1     2  0.451      1219       1  bungalow  South    YVR\n",
       "2     3  0.505      1219       1  bungalow  South    YVR\n",
       "3     4  0.441      1219       1  bungalow  South    YVR\n",
       "4     5  0.468      1219       1  bungalow  South    YVR"
      ]
     },
     "execution_count": 37,
     "metadata": {},
     "output_type": "execute_result"
    }
   ],
   "source": [
    "e_df_num_cat.head()"
   ]
  },
  {
   "cell_type": "markdown",
   "metadata": {},
   "source": [
    "## Data Quality"
   ]
  },
  {
   "cell_type": "markdown",
   "metadata": {},
   "source": [
    "### Great Expectations"
   ]
  },
  {
   "cell_type": "code",
   "execution_count": 16,
   "metadata": {},
   "outputs": [],
   "source": [
    "path_to_folder = 'C:\\\\Users\\\\bened\\\\Documents\\\\Fairness in AI\\\\'"
   ]
  },
  {
   "cell_type": "code",
   "execution_count": 17,
   "metadata": {},
   "outputs": [],
   "source": [
    "context = gx.data_context.FileDataContext(project_root_dir=path_to_folder)\n",
    "# print(context)"
   ]
  },
  {
   "cell_type": "code",
   "execution_count": 18,
   "metadata": {},
   "outputs": [],
   "source": [
    "# Initialize the data source and data asset\n",
    "data_source = context.sources.add_or_update_pandas(name='houses_madrid')\n",
    "ds_name = 'houses_madrid'\n",
    "data_asset = data_source.add_dataframe_asset(name=ds_name)"
   ]
  },
  {
   "cell_type": "code",
   "execution_count": 19,
   "metadata": {},
   "outputs": [],
   "source": [
    "data_asset = context.get_datasource(ds_name).get_asset(ds_name)\n",
    "batch_request = data_asset.build_batch_request(dataframe=df_num_cat)"
   ]
  },
  {
   "cell_type": "code",
   "execution_count": 20,
   "metadata": {},
   "outputs": [
    {
     "data": {
      "text/plain": [
       "{\n",
       "  \"expectation_suite_name\": \"default\",\n",
       "  \"ge_cloud_id\": null,\n",
       "  \"expectations\": [],\n",
       "  \"data_asset_type\": null,\n",
       "  \"meta\": {\n",
       "    \"great_expectations_version\": \"0.18.12\"\n",
       "  }\n",
       "}"
      ]
     },
     "execution_count": 20,
     "metadata": {},
     "output_type": "execute_result"
    }
   ],
   "source": [
    "context.add_or_update_expectation_suite('default')"
   ]
  },
  {
   "cell_type": "code",
   "execution_count": 21,
   "metadata": {},
   "outputs": [],
   "source": [
    "validator = context.get_validator(batch_request=batch_request, expectation_suite_name='default')\n",
    "# validator.head()"
   ]
  },
  {
   "cell_type": "markdown",
   "metadata": {},
   "source": [
    "#### Generic expectations"
   ]
  },
  {
   "cell_type": "code",
   "execution_count": 44,
   "metadata": {},
   "outputs": [],
   "source": [
    "def test_data_quality(df, dq_name, categorical_columns=[], numeric_columns=[], export=False):\n",
    "    # Initialize the data source and data asset for the given dataframe\n",
    "    # and create a batch request for the validator, and get the validator\n",
    "    data_asset = context.get_datasource(ds_name).get_asset(ds_name)\n",
    "    batch_request = data_asset.build_batch_request(dataframe=df)\n",
    "    context.add_or_update_expectation_suite(dq_name)\n",
    "    validator = context.get_validator(batch_request=batch_request, expectation_suite_name=dq_name)\n",
    "\n",
    "    # Initialize success rate counter\n",
    "    success_count = 0\n",
    "    total_expectations = 0\n",
    "\n",
    "    # Test expectations for categorical columns\n",
    "    for column in categorical_columns:\n",
    "        success_count += 1 if validator.expect_column_values_to_not_be_null(column, mostly=0.85).success else 0\n",
    "        total_expectations += 1\n",
    "        \n",
    "    # Test expectations for numeric columns\n",
    "    for column in numeric_columns:\n",
    "        success_count += 1 if validator.expect_column_values_to_not_be_null(column, mostly=0.85).success else 0\n",
    "        success_count += 1 if validator.expect_column_stdev_to_be_between(column, min_value=0.5, max_value=3).success else 0\n",
    "        total_expectations += 2\n",
    "\n",
    "    validator.save_expectation_suite(discard_failed_expectations=False)\n",
    "\n",
    "    if export:\n",
    "        checkpoint = context.add_or_update_checkpoint(\n",
    "            name=f\"{dq_name}_checkpoint\",\n",
    "            validator=validator,\n",
    "        )\n",
    "        checkpoint.run()\n",
    "\n",
    "    success_rate = success_count / total_expectations\n",
    "    return success_rate"
   ]
  },
  {
   "cell_type": "code",
   "execution_count": null,
   "metadata": {},
   "outputs": [],
   "source": [
    "# was inside the test_data_quality function\n",
    "    # checkpoint = context.add_or_update_checkpoint(\n",
    "    #     name=f\"{dq_name}_checkpoint\",\n",
    "    #     validator=validator,\n",
    "    # )\n",
    "\n",
    "    # checkpoint_result = checkpoint.run()\n",
    "\n",
    "    # # Calculate success rate\n",
    "    # success_count = checkpoint_result.list_validation_results()[0]['statistics']['successful_expectations']"
   ]
  },
  {
   "cell_type": "code",
   "execution_count": 26,
   "metadata": {},
   "outputs": [
    {
     "data": {
      "application/vnd.jupyter.widget-view+json": {
       "model_id": "323e19c6a2704ff592486558475758ef",
       "version_major": 2,
       "version_minor": 0
      },
      "text/plain": [
       "Calculating Metrics:   0%|          | 0/6 [00:00<?, ?it/s]"
      ]
     },
     "metadata": {},
     "output_type": "display_data"
    },
    {
     "data": {
      "application/vnd.jupyter.widget-view+json": {
       "model_id": "8bf96bedb052488dbc9578d547fbd5d5",
       "version_major": 2,
       "version_minor": 0
      },
      "text/plain": [
       "Calculating Metrics:   0%|          | 0/6 [00:00<?, ?it/s]"
      ]
     },
     "metadata": {},
     "output_type": "display_data"
    },
    {
     "data": {
      "application/vnd.jupyter.widget-view+json": {
       "model_id": "71a1cbc060e446bf860ede8590150da8",
       "version_major": 2,
       "version_minor": 0
      },
      "text/plain": [
       "Calculating Metrics:   0%|          | 0/6 [00:00<?, ?it/s]"
      ]
     },
     "metadata": {},
     "output_type": "display_data"
    },
    {
     "data": {
      "application/vnd.jupyter.widget-view+json": {
       "model_id": "1682ab40aa1c43ca9a7052ca96d2a610",
       "version_major": 2,
       "version_minor": 0
      },
      "text/plain": [
       "Calculating Metrics:   0%|          | 0/6 [00:00<?, ?it/s]"
      ]
     },
     "metadata": {},
     "output_type": "display_data"
    },
    {
     "data": {
      "application/vnd.jupyter.widget-view+json": {
       "model_id": "2f46d7cbd13041e8829fc93df689bd6f",
       "version_major": 2,
       "version_minor": 0
      },
      "text/plain": [
       "Calculating Metrics:   0%|          | 0/6 [00:00<?, ?it/s]"
      ]
     },
     "metadata": {},
     "output_type": "display_data"
    },
    {
     "data": {
      "application/vnd.jupyter.widget-view+json": {
       "model_id": "de70766007184c48a0e5acc0c8d4ae9e",
       "version_major": 2,
       "version_minor": 0
      },
      "text/plain": [
       "Calculating Metrics:   0%|          | 0/6 [00:00<?, ?it/s]"
      ]
     },
     "metadata": {},
     "output_type": "display_data"
    },
    {
     "data": {
      "application/vnd.jupyter.widget-view+json": {
       "model_id": "f79f3b27a08144498fec2aeea6f290ff",
       "version_major": 2,
       "version_minor": 0
      },
      "text/plain": [
       "Calculating Metrics:   0%|          | 0/6 [00:00<?, ?it/s]"
      ]
     },
     "metadata": {},
     "output_type": "display_data"
    },
    {
     "data": {
      "application/vnd.jupyter.widget-view+json": {
       "model_id": "3e91360853fe4a01b76d55a486dde301",
       "version_major": 2,
       "version_minor": 0
      },
      "text/plain": [
       "Calculating Metrics:   0%|          | 0/6 [00:00<?, ?it/s]"
      ]
     },
     "metadata": {},
     "output_type": "display_data"
    },
    {
     "data": {
      "application/vnd.jupyter.widget-view+json": {
       "model_id": "2b31a2bd845140958ed2066a47febafb",
       "version_major": 2,
       "version_minor": 0
      },
      "text/plain": [
       "Calculating Metrics:   0%|          | 0/6 [00:00<?, ?it/s]"
      ]
     },
     "metadata": {},
     "output_type": "display_data"
    },
    {
     "data": {
      "application/vnd.jupyter.widget-view+json": {
       "model_id": "2790e783ed8d43ad911138fb114f1ad5",
       "version_major": 2,
       "version_minor": 0
      },
      "text/plain": [
       "Calculating Metrics:   0%|          | 0/6 [00:00<?, ?it/s]"
      ]
     },
     "metadata": {},
     "output_type": "display_data"
    },
    {
     "data": {
      "application/vnd.jupyter.widget-view+json": {
       "model_id": "89d606b55b72428ba323bd73e6a96946",
       "version_major": 2,
       "version_minor": 0
      },
      "text/plain": [
       "Calculating Metrics:   0%|          | 0/6 [00:00<?, ?it/s]"
      ]
     },
     "metadata": {},
     "output_type": "display_data"
    },
    {
     "data": {
      "application/vnd.jupyter.widget-view+json": {
       "model_id": "25de1109c258480bbf51d3ebe07c759d",
       "version_major": 2,
       "version_minor": 0
      },
      "text/plain": [
       "Calculating Metrics:   0%|          | 0/6 [00:00<?, ?it/s]"
      ]
     },
     "metadata": {},
     "output_type": "display_data"
    },
    {
     "data": {
      "application/vnd.jupyter.widget-view+json": {
       "model_id": "402a3efb65164a9bb39d9382e872f17c",
       "version_major": 2,
       "version_minor": 0
      },
      "text/plain": [
       "Calculating Metrics:   0%|          | 0/6 [00:00<?, ?it/s]"
      ]
     },
     "metadata": {},
     "output_type": "display_data"
    },
    {
     "data": {
      "application/vnd.jupyter.widget-view+json": {
       "model_id": "4e432d03148048a299ea8489630b204f",
       "version_major": 2,
       "version_minor": 0
      },
      "text/plain": [
       "Calculating Metrics:   0%|          | 0/6 [00:00<?, ?it/s]"
      ]
     },
     "metadata": {},
     "output_type": "display_data"
    },
    {
     "data": {
      "application/vnd.jupyter.widget-view+json": {
       "model_id": "6ca74c1bc1f94cfb8932432183d43ed8",
       "version_major": 2,
       "version_minor": 0
      },
      "text/plain": [
       "Calculating Metrics:   0%|          | 0/6 [00:00<?, ?it/s]"
      ]
     },
     "metadata": {},
     "output_type": "display_data"
    },
    {
     "data": {
      "application/vnd.jupyter.widget-view+json": {
       "model_id": "5e5a3c9321684a5391fd904dab17c83a",
       "version_major": 2,
       "version_minor": 0
      },
      "text/plain": [
       "Calculating Metrics:   0%|          | 0/6 [00:00<?, ?it/s]"
      ]
     },
     "metadata": {},
     "output_type": "display_data"
    },
    {
     "data": {
      "application/vnd.jupyter.widget-view+json": {
       "model_id": "a409c815c3484f6aaba64a4f798db746",
       "version_major": 2,
       "version_minor": 0
      },
      "text/plain": [
       "Calculating Metrics:   0%|          | 0/6 [00:00<?, ?it/s]"
      ]
     },
     "metadata": {},
     "output_type": "display_data"
    },
    {
     "data": {
      "application/vnd.jupyter.widget-view+json": {
       "model_id": "d599b7c1932949a3b8b8aec2bf26374d",
       "version_major": 2,
       "version_minor": 0
      },
      "text/plain": [
       "Calculating Metrics:   0%|          | 0/6 [00:00<?, ?it/s]"
      ]
     },
     "metadata": {},
     "output_type": "display_data"
    },
    {
     "data": {
      "application/vnd.jupyter.widget-view+json": {
       "model_id": "c71e15d5d07e4496a2d98da99a78c71f",
       "version_major": 2,
       "version_minor": 0
      },
      "text/plain": [
       "Calculating Metrics:   0%|          | 0/6 [00:00<?, ?it/s]"
      ]
     },
     "metadata": {},
     "output_type": "display_data"
    },
    {
     "data": {
      "application/vnd.jupyter.widget-view+json": {
       "model_id": "05b76118d1e24c2583b3becf674a5719",
       "version_major": 2,
       "version_minor": 0
      },
      "text/plain": [
       "Calculating Metrics:   0%|          | 0/6 [00:00<?, ?it/s]"
      ]
     },
     "metadata": {},
     "output_type": "display_data"
    },
    {
     "data": {
      "application/vnd.jupyter.widget-view+json": {
       "model_id": "fc2b785c6fc1439abc8af84a160379a8",
       "version_major": 2,
       "version_minor": 0
      },
      "text/plain": [
       "Calculating Metrics:   0%|          | 0/6 [00:00<?, ?it/s]"
      ]
     },
     "metadata": {},
     "output_type": "display_data"
    },
    {
     "data": {
      "application/vnd.jupyter.widget-view+json": {
       "model_id": "db6cf8b9cf8b4b0cad126d2952124820",
       "version_major": 2,
       "version_minor": 0
      },
      "text/plain": [
       "Calculating Metrics:   0%|          | 0/6 [00:00<?, ?it/s]"
      ]
     },
     "metadata": {},
     "output_type": "display_data"
    },
    {
     "data": {
      "application/vnd.jupyter.widget-view+json": {
       "model_id": "48f1f1ddd7ee495fb4d3649e20282f00",
       "version_major": 2,
       "version_minor": 0
      },
      "text/plain": [
       "Calculating Metrics:   0%|          | 0/6 [00:00<?, ?it/s]"
      ]
     },
     "metadata": {},
     "output_type": "display_data"
    },
    {
     "data": {
      "application/vnd.jupyter.widget-view+json": {
       "model_id": "258233022e274d0f8923d2ae31404838",
       "version_major": 2,
       "version_minor": 0
      },
      "text/plain": [
       "Calculating Metrics:   0%|          | 0/6 [00:00<?, ?it/s]"
      ]
     },
     "metadata": {},
     "output_type": "display_data"
    },
    {
     "data": {
      "application/vnd.jupyter.widget-view+json": {
       "model_id": "7267d063b20448d0b19077fef8fbd510",
       "version_major": 2,
       "version_minor": 0
      },
      "text/plain": [
       "Calculating Metrics:   0%|          | 0/6 [00:00<?, ?it/s]"
      ]
     },
     "metadata": {},
     "output_type": "display_data"
    },
    {
     "data": {
      "application/vnd.jupyter.widget-view+json": {
       "model_id": "90b35e6b4bbe40e68433f83d8ba8a441",
       "version_major": 2,
       "version_minor": 0
      },
      "text/plain": [
       "Calculating Metrics:   0%|          | 0/6 [00:00<?, ?it/s]"
      ]
     },
     "metadata": {},
     "output_type": "display_data"
    },
    {
     "data": {
      "application/vnd.jupyter.widget-view+json": {
       "model_id": "b541b80ec3164b9a8216a327ca3d8227",
       "version_major": 2,
       "version_minor": 0
      },
      "text/plain": [
       "Calculating Metrics:   0%|          | 0/6 [00:00<?, ?it/s]"
      ]
     },
     "metadata": {},
     "output_type": "display_data"
    },
    {
     "data": {
      "application/vnd.jupyter.widget-view+json": {
       "model_id": "331e0a415c914195995b086c1fb0a49d",
       "version_major": 2,
       "version_minor": 0
      },
      "text/plain": [
       "Calculating Metrics:   0%|          | 0/6 [00:00<?, ?it/s]"
      ]
     },
     "metadata": {},
     "output_type": "display_data"
    },
    {
     "data": {
      "application/vnd.jupyter.widget-view+json": {
       "model_id": "f72c38ca41124df8af2ba3f626a94902",
       "version_major": 2,
       "version_minor": 0
      },
      "text/plain": [
       "Calculating Metrics:   0%|          | 0/6 [00:00<?, ?it/s]"
      ]
     },
     "metadata": {},
     "output_type": "display_data"
    },
    {
     "data": {
      "application/vnd.jupyter.widget-view+json": {
       "model_id": "002776741f844c598223ac5297cf1c80",
       "version_major": 2,
       "version_minor": 0
      },
      "text/plain": [
       "Calculating Metrics:   0%|          | 0/6 [00:00<?, ?it/s]"
      ]
     },
     "metadata": {},
     "output_type": "display_data"
    },
    {
     "data": {
      "application/vnd.jupyter.widget-view+json": {
       "model_id": "3089ce7f0bb645338fed8f0db779e7e1",
       "version_major": 2,
       "version_minor": 0
      },
      "text/plain": [
       "Calculating Metrics:   0%|          | 0/6 [00:00<?, ?it/s]"
      ]
     },
     "metadata": {},
     "output_type": "display_data"
    },
    {
     "data": {
      "application/vnd.jupyter.widget-view+json": {
       "model_id": "a7c5ca42d88b4a0e9f28e9b8717ee8c8",
       "version_major": 2,
       "version_minor": 0
      },
      "text/plain": [
       "Calculating Metrics:   0%|          | 0/6 [00:00<?, ?it/s]"
      ]
     },
     "metadata": {},
     "output_type": "display_data"
    },
    {
     "data": {
      "application/vnd.jupyter.widget-view+json": {
       "model_id": "f6ecbf707cc44fcaa9a8ab8a6746454e",
       "version_major": 2,
       "version_minor": 0
      },
      "text/plain": [
       "Calculating Metrics:   0%|          | 0/6 [00:00<?, ?it/s]"
      ]
     },
     "metadata": {},
     "output_type": "display_data"
    },
    {
     "data": {
      "application/vnd.jupyter.widget-view+json": {
       "model_id": "ce73970f657649008c5e88e6478c9c10",
       "version_major": 2,
       "version_minor": 0
      },
      "text/plain": [
       "Calculating Metrics:   0%|          | 0/6 [00:00<?, ?it/s]"
      ]
     },
     "metadata": {},
     "output_type": "display_data"
    },
    {
     "data": {
      "application/vnd.jupyter.widget-view+json": {
       "model_id": "8fc4220d347a40e8a9bde1e5260fcd57",
       "version_major": 2,
       "version_minor": 0
      },
      "text/plain": [
       "Calculating Metrics:   0%|          | 0/6 [00:00<?, ?it/s]"
      ]
     },
     "metadata": {},
     "output_type": "display_data"
    },
    {
     "data": {
      "application/vnd.jupyter.widget-view+json": {
       "model_id": "1c0d8abb47974733bfac97c5ba334c7f",
       "version_major": 2,
       "version_minor": 0
      },
      "text/plain": [
       "Calculating Metrics:   0%|          | 0/6 [00:00<?, ?it/s]"
      ]
     },
     "metadata": {},
     "output_type": "display_data"
    },
    {
     "data": {
      "application/vnd.jupyter.widget-view+json": {
       "model_id": "7c922544a81e4699b004c1881c3fa428",
       "version_major": 2,
       "version_minor": 0
      },
      "text/plain": [
       "Calculating Metrics:   0%|          | 0/6 [00:00<?, ?it/s]"
      ]
     },
     "metadata": {},
     "output_type": "display_data"
    },
    {
     "data": {
      "application/vnd.jupyter.widget-view+json": {
       "model_id": "0bf503d9fb674de8b8808264dc7c2925",
       "version_major": 2,
       "version_minor": 0
      },
      "text/plain": [
       "Calculating Metrics:   0%|          | 0/6 [00:00<?, ?it/s]"
      ]
     },
     "metadata": {},
     "output_type": "display_data"
    },
    {
     "data": {
      "text/plain": [
       "0.5263157894736842"
      ]
     },
     "execution_count": 26,
     "metadata": {},
     "output_type": "execute_result"
    }
   ],
   "source": [
    "test_data_quality(df_num_cat, 'data_quality_test_2', categorical_columns, numerical_columns)"
   ]
  },
  {
   "cell_type": "code",
   "execution_count": 45,
   "metadata": {},
   "outputs": [
    {
     "data": {
      "application/vnd.jupyter.widget-view+json": {
       "model_id": "9860120a0cec467db3d961833a71d09c",
       "version_major": 2,
       "version_minor": 0
      },
      "text/plain": [
       "Calculating Metrics:   0%|          | 0/6 [00:00<?, ?it/s]"
      ]
     },
     "metadata": {},
     "output_type": "display_data"
    },
    {
     "data": {
      "application/vnd.jupyter.widget-view+json": {
       "model_id": "b787e7a8ffcc493b81bbccf69da726d4",
       "version_major": 2,
       "version_minor": 0
      },
      "text/plain": [
       "Calculating Metrics:   0%|          | 0/6 [00:00<?, ?it/s]"
      ]
     },
     "metadata": {},
     "output_type": "display_data"
    },
    {
     "data": {
      "application/vnd.jupyter.widget-view+json": {
       "model_id": "1f37d60762a24023a589f6402102bbda",
       "version_major": 2,
       "version_minor": 0
      },
      "text/plain": [
       "Calculating Metrics:   0%|          | 0/6 [00:00<?, ?it/s]"
      ]
     },
     "metadata": {},
     "output_type": "display_data"
    },
    {
     "data": {
      "application/vnd.jupyter.widget-view+json": {
       "model_id": "f6cf9854ad9240c5a6ee56a71ae6d9ed",
       "version_major": 2,
       "version_minor": 0
      },
      "text/plain": [
       "Calculating Metrics:   0%|          | 0/6 [00:00<?, ?it/s]"
      ]
     },
     "metadata": {},
     "output_type": "display_data"
    },
    {
     "data": {
      "application/vnd.jupyter.widget-view+json": {
       "model_id": "6788e5bc247d4928bc41d607cf994ad8",
       "version_major": 2,
       "version_minor": 0
      },
      "text/plain": [
       "Calculating Metrics:   0%|          | 0/6 [00:00<?, ?it/s]"
      ]
     },
     "metadata": {},
     "output_type": "display_data"
    },
    {
     "data": {
      "application/vnd.jupyter.widget-view+json": {
       "model_id": "0fdf19a88f69444181f81b2ddfc7e5fd",
       "version_major": 2,
       "version_minor": 0
      },
      "text/plain": [
       "Calculating Metrics:   0%|          | 0/4 [00:00<?, ?it/s]"
      ]
     },
     "metadata": {},
     "output_type": "display_data"
    },
    {
     "data": {
      "application/vnd.jupyter.widget-view+json": {
       "model_id": "3c9d35e0157d489d8d88ad474f2b84f9",
       "version_major": 2,
       "version_minor": 0
      },
      "text/plain": [
       "Calculating Metrics:   0%|          | 0/6 [00:00<?, ?it/s]"
      ]
     },
     "metadata": {},
     "output_type": "display_data"
    },
    {
     "data": {
      "application/vnd.jupyter.widget-view+json": {
       "model_id": "7f5511fd2117429f9aa1d179ea179f64",
       "version_major": 2,
       "version_minor": 0
      },
      "text/plain": [
       "Calculating Metrics:   0%|          | 0/4 [00:00<?, ?it/s]"
      ]
     },
     "metadata": {},
     "output_type": "display_data"
    },
    {
     "data": {
      "application/vnd.jupyter.widget-view+json": {
       "model_id": "72294f35e2c3495f8c87c29a3f3c9186",
       "version_major": 2,
       "version_minor": 0
      },
      "text/plain": [
       "Calculating Metrics:   0%|          | 0/6 [00:00<?, ?it/s]"
      ]
     },
     "metadata": {},
     "output_type": "display_data"
    },
    {
     "data": {
      "application/vnd.jupyter.widget-view+json": {
       "model_id": "843c572a27464a0e9e12370614ce0fef",
       "version_major": 2,
       "version_minor": 0
      },
      "text/plain": [
       "Calculating Metrics:   0%|          | 0/4 [00:00<?, ?it/s]"
      ]
     },
     "metadata": {},
     "output_type": "display_data"
    },
    {
     "data": {
      "application/vnd.jupyter.widget-view+json": {
       "model_id": "40fa91aa808f4e56b20517b3b08e444c",
       "version_major": 2,
       "version_minor": 0
      },
      "text/plain": [
       "Calculating Metrics:   0%|          | 0/41 [00:00<?, ?it/s]"
      ]
     },
     "metadata": {},
     "output_type": "display_data"
    },
    {
     "data": {
      "text/plain": [
       "0.8"
      ]
     },
     "execution_count": 45,
     "metadata": {},
     "output_type": "execute_result"
    }
   ],
   "source": [
    "test_data_quality(e_df_num_cat, 'data_quality_test_3', e_categorical_columns, e_numerical_columns, export=True)"
   ]
  },
  {
   "cell_type": "markdown",
   "metadata": {},
   "source": [
    "### Tests"
   ]
  },
  {
   "cell_type": "code",
   "execution_count": 29,
   "metadata": {},
   "outputs": [
    {
     "data": {
      "application/vnd.jupyter.widget-view+json": {
       "model_id": "a48a01e60f534bfca3e5f9b2a0153b93",
       "version_major": 2,
       "version_minor": 0
      },
      "text/plain": [
       "Calculating Metrics:   0%|          | 0/4 [00:00<?, ?it/s]"
      ]
     },
     "metadata": {},
     "output_type": "display_data"
    },
    {
     "data": {
      "application/vnd.jupyter.widget-view+json": {
       "model_id": "4a3474b83fc241cdad76812ebc2a50ae",
       "version_major": 2,
       "version_minor": 0
      },
      "text/plain": [
       "Calculating Metrics:   0%|          | 0/8 [00:00<?, ?it/s]"
      ]
     },
     "metadata": {},
     "output_type": "display_data"
    }
   ],
   "source": [
    "# validator.expect_column_values_to_not_be_null(column='buy_price')\n",
    "# validator.expect_column_min_to_be_between(column='rent_price', min_value=0, max_value=10000000)\n",
    "validator.expect_column_mean_to_be_between(column='rent_price', min_value=0, max_value=1000000)\n",
    "# come up with 5 basic expectations for the dataset\n",
    "validator.expect_column_values_to_be_in_set(column='house_type_id', value_set=['House', 'Flat', 'Studio'])\n",
    "# validator.expect_column_values_to_be_unique(column='id')\n",
    "\n",
    "validator.save_expectation_suite(discard_failed_expectations=False)"
   ]
  },
  {
   "cell_type": "code",
   "execution_count": 30,
   "metadata": {},
   "outputs": [],
   "source": [
    "checkpoint = context.add_or_update_checkpoint(\n",
    "    name=\"first_checkpoint\",\n",
    "    validator=validator,\n",
    ")"
   ]
  },
  {
   "cell_type": "code",
   "execution_count": 31,
   "metadata": {},
   "outputs": [
    {
     "data": {
      "application/vnd.jupyter.widget-view+json": {
       "model_id": "b8c2d0b369984d8dbac5505579a743ec",
       "version_major": 2,
       "version_minor": 0
      },
      "text/plain": [
       "Calculating Metrics:   0%|          | 0/11 [00:00<?, ?it/s]"
      ]
     },
     "metadata": {},
     "output_type": "display_data"
    }
   ],
   "source": [
    "checkpoint_result = checkpoint.run()\n",
    "# context.view_validation_result(checkpoint_result)\n",
    "# context.build_data_docs()"
   ]
  },
  {
   "cell_type": "code",
   "execution_count": 29,
   "metadata": {},
   "outputs": [
    {
     "data": {
      "text/plain": [
       "{'data_asset_count': 1,\n",
       " 'validation_result_count': 1,\n",
       " 'successful_validation_count': 0,\n",
       " 'unsuccessful_validation_count': 1,\n",
       " 'successful_validation_percent': 0.0,\n",
       " 'validation_statistics': {ValidationResultIdentifier::default/__none__/20240410T143612.448261Z/houses_madrid-houses_madrid: {'evaluated_expectations': 2,\n",
       "   'successful_expectations': 0,\n",
       "   'unsuccessful_expectations': 2,\n",
       "   'success_percent': 0.0}}}"
      ]
     },
     "execution_count": 29,
     "metadata": {},
     "output_type": "execute_result"
    }
   ],
   "source": [
    "checkpoint_result.get_statistics()"
   ]
  },
  {
   "cell_type": "code",
   "execution_count": 49,
   "metadata": {},
   "outputs": [
    {
     "data": {
      "text/plain": [
       "[{\n",
       "   \"success\": false,\n",
       "   \"results\": [\n",
       "     {\n",
       "       \"success\": false,\n",
       "       \"expectation_config\": {\n",
       "         \"expectation_type\": \"expect_column_mean_to_be_between\",\n",
       "         \"kwargs\": {\n",
       "           \"column\": \"rent_price\",\n",
       "           \"max_value\": 1000000,\n",
       "           \"min_value\": 0,\n",
       "           \"batch_id\": \"houses_madrid-houses_madrid\"\n",
       "         },\n",
       "         \"meta\": {}\n",
       "       },\n",
       "       \"result\": {\n",
       "         \"observed_value\": -59170.30792935332\n",
       "       },\n",
       "       \"meta\": {},\n",
       "       \"exception_info\": {\n",
       "         \"raised_exception\": false,\n",
       "         \"exception_traceback\": null,\n",
       "         \"exception_message\": null\n",
       "       }\n",
       "     },\n",
       "     {\n",
       "       \"success\": false,\n",
       "       \"expectation_config\": {\n",
       "         \"expectation_type\": \"expect_column_values_to_be_in_set\",\n",
       "         \"kwargs\": {\n",
       "           \"column\": \"house_type_id\",\n",
       "           \"value_set\": [\n",
       "             \"House\",\n",
       "             \"Flat\",\n",
       "             \"Studio\"\n",
       "           ],\n",
       "           \"batch_id\": \"houses_madrid-houses_madrid\"\n",
       "         },\n",
       "         \"meta\": {}\n",
       "       },\n",
       "       \"result\": {\n",
       "         \"element_count\": 21742,\n",
       "         \"unexpected_count\": 21351,\n",
       "         \"unexpected_percent\": 100.0,\n",
       "         \"partial_unexpected_list\": [\n",
       "           \"HouseType 1: Pisos\",\n",
       "           \"HouseType 1: Pisos\",\n",
       "           \"HouseType 1: Pisos\",\n",
       "           \"HouseType 1: Pisos\",\n",
       "           \"HouseType 1: Pisos\",\n",
       "           \"HouseType 1: Pisos\",\n",
       "           \"HouseType 1: Pisos\",\n",
       "           \"HouseType 1: Pisos\",\n",
       "           \"HouseType 1: Pisos\",\n",
       "           \"HouseType 1: Pisos\",\n",
       "           \"HouseType 1: Pisos\",\n",
       "           \"HouseType 1: Pisos\",\n",
       "           \"HouseType 1: Pisos\",\n",
       "           \"HouseType 1: Pisos\",\n",
       "           \"HouseType 1: Pisos\",\n",
       "           \"HouseType 1: Pisos\",\n",
       "           \"HouseType 1: Pisos\",\n",
       "           \"HouseType 1: Pisos\",\n",
       "           \"HouseType 1: Pisos\",\n",
       "           \"HouseType 1: Pisos\"\n",
       "         ],\n",
       "         \"missing_count\": 391,\n",
       "         \"missing_percent\": 1.7983626161346702,\n",
       "         \"unexpected_percent_total\": 98.20163738386533,\n",
       "         \"unexpected_percent_nonmissing\": 100.0,\n",
       "         \"partial_unexpected_counts\": [\n",
       "           {\n",
       "             \"value\": \"HouseType 1: Pisos\",\n",
       "             \"count\": 20\n",
       "           }\n",
       "         ],\n",
       "         \"partial_unexpected_index_list\": [\n",
       "           0,\n",
       "           1,\n",
       "           2,\n",
       "           3,\n",
       "           4,\n",
       "           5,\n",
       "           6,\n",
       "           7,\n",
       "           8,\n",
       "           9,\n",
       "           10,\n",
       "           11,\n",
       "           12,\n",
       "           13,\n",
       "           14,\n",
       "           15,\n",
       "           16,\n",
       "           17,\n",
       "           18,\n",
       "           19\n",
       "         ]\n",
       "       },\n",
       "       \"meta\": {},\n",
       "       \"exception_info\": {\n",
       "         \"raised_exception\": false,\n",
       "         \"exception_traceback\": null,\n",
       "         \"exception_message\": null\n",
       "       }\n",
       "     }\n",
       "   ],\n",
       "   \"evaluation_parameters\": {},\n",
       "   \"statistics\": {\n",
       "     \"evaluated_expectations\": 2,\n",
       "     \"successful_expectations\": 0,\n",
       "     \"unsuccessful_expectations\": 2,\n",
       "     \"success_percent\": 0.0\n",
       "   },\n",
       "   \"meta\": {\n",
       "     \"great_expectations_version\": \"0.18.12\",\n",
       "     \"expectation_suite_name\": \"default\",\n",
       "     \"run_id\": {\n",
       "       \"run_name\": null,\n",
       "       \"run_time\": \"2024-04-10T17:04:10.892750+02:00\"\n",
       "     },\n",
       "     \"batch_spec\": {\n",
       "       \"batch_data\": \"PandasDataFrame\"\n",
       "     },\n",
       "     \"batch_markers\": {\n",
       "       \"ge_load_time\": \"20240410T150410.917215Z\",\n",
       "       \"pandas_data_fingerprint\": \"f7a3b59a3d6943bfe4de9ca2535e8eb7\"\n",
       "     },\n",
       "     \"active_batch_definition\": {\n",
       "       \"datasource_name\": \"houses_madrid\",\n",
       "       \"data_connector_name\": \"fluent\",\n",
       "       \"data_asset_name\": \"houses_madrid\",\n",
       "       \"batch_identifiers\": {}\n",
       "     },\n",
       "     \"validation_time\": \"20240410T150410.932610Z\",\n",
       "     \"checkpoint_name\": \"first_checkpoint\",\n",
       "     \"validation_id\": null,\n",
       "     \"checkpoint_id\": null\n",
       "   }\n",
       " }]"
      ]
     },
     "execution_count": 49,
     "metadata": {},
     "output_type": "execute_result"
    }
   ],
   "source": [
    "checkpoint_result.list_validation_results()"
   ]
  },
  {
   "cell_type": "code",
   "execution_count": 52,
   "metadata": {},
   "outputs": [
    {
     "name": "stdout",
     "output_type": "stream",
     "text": [
      "0\n"
     ]
    }
   ],
   "source": [
    "# get the number of successful expectations from the checkpoint result\n",
    "success_count = checkpoint_result.list_validation_results()[0]['statistics']['successful_expectations']\n",
    "print(success_count)"
   ]
  },
  {
   "cell_type": "markdown",
   "metadata": {},
   "source": [
    "### YData Quality"
   ]
  },
  {
   "cell_type": "code",
   "execution_count": 44,
   "metadata": {},
   "outputs": [
    {
     "name": "stdout",
     "output_type": "stream",
     "text": [
      "INFO | No exact duplicates were found.\n",
      "INFO | No duplicate columns were found.\n",
      "\u001b[38;5;2mNo warnings found.\u001b[0m\n"
     ]
    }
   ],
   "source": [
    "dc = DuplicateChecker(df=df, entities=['neighborhood', 'District'])\n",
    "# dc = DuplicateChecker(df)\n",
    "results = dc.evaluate()"
   ]
  },
  {
   "cell_type": "code",
   "execution_count": 40,
   "metadata": {},
   "outputs": [
    {
     "name": "stdout",
     "output_type": "stream",
     "text": [
      "INFO | No predefined ED values from  the set {'', nan, 'unknown', None, '(blank)', 'n/a', '?', 'na', 'unk', 'nan'} were found in the dataset.\n",
      "\u001b[38;5;2mNo warnings found.\u001b[0m\n"
     ]
    }
   ],
   "source": [
    "edi = ErroneousDataIdentifier(df=df, ed_extensions=['NaN', np.nan, None])\n",
    "results = edi.evaluate()"
   ]
  },
  {
   "cell_type": "code",
   "execution_count": 41,
   "metadata": {},
   "outputs": [
    {
     "name": "stdout",
     "output_type": "stream",
     "text": [
      "None\n"
     ]
    }
   ],
   "source": [
    "flatlines_out = edi.flatlines(th=5)\n",
    "print(flatlines_out)"
   ]
  },
  {
   "cell_type": "code",
   "execution_count": 46,
   "metadata": {},
   "outputs": [
    {
     "name": "stdout",
     "output_type": "stream",
     "text": [
      "\u001b[1mWarnings:\u001b[0m\n",
      "\tTOTAL: 3 warning(s)\n",
      "\t\u001b[1m\u001b[38;5;11mPriority 2\u001b[0m: 1 warning(s)\n",
      "\t\u001b[1m\u001b[38;5;69mPriority 3\u001b[0m: 2 warning(s)\n",
      "\n",
      "\n",
      "\u001b[38;5;11m\u001b[1mPriority 2\u001b[0m - \u001b[1musage allowed, limited human intelligibility\u001b[0m:\n",
      "\t\u001b[38;5;11m*\u001b[0m \u001b[1m[MISSINGS\u001b[0m - \u001b[4mMISSINGNESS PREDICTION]\u001b[0m Found 8 features with prediction performance                         of missingness above threshold (0.8).\n",
      "\u001b[38;5;69m\u001b[1mPriority 3\u001b[0m - \u001b[1mminor impact, aesthetic\u001b[0m:\n",
      "\t\u001b[38;5;69m*\u001b[0m \u001b[1m[MISSINGS\u001b[0m - \u001b[4mHIGH MISSING CORRELATIONS]\u001b[0m Found 21 feature pairs with correlation of missing values higher than defined threshold (0.5).\n",
      "\t\u001b[38;5;69m*\u001b[0m \u001b[1m[MISSINGS\u001b[0m - \u001b[4mHIGH MISSINGS]\u001b[0m Found 20 columns with more than 20.0% of missing values.\n"
     ]
    }
   ],
   "source": [
    "mp = MissingsProfiler(df)\n",
    "results = mp.evaluate()"
   ]
  },
  {
   "cell_type": "code",
   "execution_count": 11,
   "metadata": {},
   "outputs": [],
   "source": [
    "dq = DataQuality(df)"
   ]
  },
  {
   "cell_type": "code",
   "execution_count": 12,
   "metadata": {},
   "outputs": [
    {
     "name": "stderr",
     "output_type": "stream",
     "text": [
      "c:\\Users\\bened\\AppData\\Local\\Programs\\Python\\Python38\\lib\\site-packages\\ydata_quality\\utils\\correlations.py:73: RuntimeWarning: invalid value encountered in double_scalars\n",
      "  return np.sqrt(phi_sq_hat / np.min([k_hat - 1, r_hat - 1]))  # Note: this is strictly positive\n",
      "c:\\Users\\bened\\AppData\\Local\\Programs\\Python\\Python38\\lib\\site-packages\\ydata_quality\\utils\\correlations.py:73: RuntimeWarning: invalid value encountered in double_scalars\n",
      "  return np.sqrt(phi_sq_hat / np.min([k_hat - 1, r_hat - 1]))  # Note: this is strictly positive\n",
      "c:\\Users\\bened\\AppData\\Local\\Programs\\Python\\Python38\\lib\\site-packages\\ydata_quality\\utils\\correlations.py:73: RuntimeWarning: invalid value encountered in double_scalars\n",
      "  return np.sqrt(phi_sq_hat / np.min([k_hat - 1, r_hat - 1]))  # Note: this is strictly positive\n",
      "c:\\Users\\bened\\AppData\\Local\\Programs\\Python\\Python38\\lib\\site-packages\\ydata_quality\\utils\\correlations.py:73: RuntimeWarning: invalid value encountered in double_scalars\n",
      "  return np.sqrt(phi_sq_hat / np.min([k_hat - 1, r_hat - 1]))  # Note: this is strictly positive\n",
      "c:\\Users\\bened\\AppData\\Local\\Programs\\Python\\Python38\\lib\\site-packages\\ydata_quality\\utils\\correlations.py:73: RuntimeWarning: invalid value encountered in double_scalars\n",
      "  return np.sqrt(phi_sq_hat / np.min([k_hat - 1, r_hat - 1]))  # Note: this is strictly positive\n",
      "c:\\Users\\bened\\AppData\\Local\\Programs\\Python\\Python38\\lib\\site-packages\\ydata_quality\\utils\\correlations.py:73: RuntimeWarning: invalid value encountered in double_scalars\n",
      "  return np.sqrt(phi_sq_hat / np.min([k_hat - 1, r_hat - 1]))  # Note: this is strictly positive\n",
      "c:\\Users\\bened\\AppData\\Local\\Programs\\Python\\Python38\\lib\\site-packages\\ydata_quality\\utils\\correlations.py:73: RuntimeWarning: invalid value encountered in double_scalars\n",
      "  return np.sqrt(phi_sq_hat / np.min([k_hat - 1, r_hat - 1]))  # Note: this is strictly positive\n",
      "c:\\Users\\bened\\AppData\\Local\\Programs\\Python\\Python38\\lib\\site-packages\\ydata_quality\\utils\\correlations.py:73: RuntimeWarning: invalid value encountered in double_scalars\n",
      "  return np.sqrt(phi_sq_hat / np.min([k_hat - 1, r_hat - 1]))  # Note: this is strictly positive\n",
      "c:\\Users\\bened\\AppData\\Local\\Programs\\Python\\Python38\\lib\\site-packages\\ydata_quality\\utils\\correlations.py:73: RuntimeWarning: invalid value encountered in double_scalars\n",
      "  return np.sqrt(phi_sq_hat / np.min([k_hat - 1, r_hat - 1]))  # Note: this is strictly positive\n",
      "c:\\Users\\bened\\AppData\\Local\\Programs\\Python\\Python38\\lib\\site-packages\\ydata_quality\\utils\\correlations.py:73: RuntimeWarning: invalid value encountered in double_scalars\n",
      "  return np.sqrt(phi_sq_hat / np.min([k_hat - 1, r_hat - 1]))  # Note: this is strictly positive\n",
      "c:\\Users\\bened\\AppData\\Local\\Programs\\Python\\Python38\\lib\\site-packages\\ydata_quality\\utils\\correlations.py:73: RuntimeWarning: invalid value encountered in double_scalars\n",
      "  return np.sqrt(phi_sq_hat / np.min([k_hat - 1, r_hat - 1]))  # Note: this is strictly positive\n",
      "c:\\Users\\bened\\AppData\\Local\\Programs\\Python\\Python38\\lib\\site-packages\\ydata_quality\\utils\\correlations.py:73: RuntimeWarning: invalid value encountered in double_scalars\n",
      "  return np.sqrt(phi_sq_hat / np.min([k_hat - 1, r_hat - 1]))  # Note: this is strictly positive\n",
      "c:\\Users\\bened\\AppData\\Local\\Programs\\Python\\Python38\\lib\\site-packages\\ydata_quality\\utils\\correlations.py:73: RuntimeWarning: invalid value encountered in double_scalars\n",
      "  return np.sqrt(phi_sq_hat / np.min([k_hat - 1, r_hat - 1]))  # Note: this is strictly positive\n",
      "c:\\Users\\bened\\AppData\\Local\\Programs\\Python\\Python38\\lib\\site-packages\\ydata_quality\\utils\\correlations.py:73: RuntimeWarning: invalid value encountered in double_scalars\n",
      "  return np.sqrt(phi_sq_hat / np.min([k_hat - 1, r_hat - 1]))  # Note: this is strictly positive\n",
      "c:\\Users\\bened\\AppData\\Local\\Programs\\Python\\Python38\\lib\\site-packages\\ydata_quality\\utils\\correlations.py:73: RuntimeWarning: invalid value encountered in double_scalars\n",
      "  return np.sqrt(phi_sq_hat / np.min([k_hat - 1, r_hat - 1]))  # Note: this is strictly positive\n",
      "c:\\Users\\bened\\AppData\\Local\\Programs\\Python\\Python38\\lib\\site-packages\\ydata_quality\\utils\\correlations.py:73: RuntimeWarning: invalid value encountered in double_scalars\n",
      "  return np.sqrt(phi_sq_hat / np.min([k_hat - 1, r_hat - 1]))  # Note: this is strictly positive\n",
      "c:\\Users\\bened\\AppData\\Local\\Programs\\Python\\Python38\\lib\\site-packages\\ydata_quality\\utils\\correlations.py:73: RuntimeWarning: invalid value encountered in double_scalars\n",
      "  return np.sqrt(phi_sq_hat / np.min([k_hat - 1, r_hat - 1]))  # Note: this is strictly positive\n",
      "c:\\Users\\bened\\AppData\\Local\\Programs\\Python\\Python38\\lib\\site-packages\\ydata_quality\\utils\\correlations.py:73: RuntimeWarning: invalid value encountered in double_scalars\n",
      "  return np.sqrt(phi_sq_hat / np.min([k_hat - 1, r_hat - 1]))  # Note: this is strictly positive\n",
      "c:\\Users\\bened\\AppData\\Local\\Programs\\Python\\Python38\\lib\\site-packages\\ydata_quality\\utils\\correlations.py:73: RuntimeWarning: invalid value encountered in double_scalars\n",
      "  return np.sqrt(phi_sq_hat / np.min([k_hat - 1, r_hat - 1]))  # Note: this is strictly positive\n",
      "c:\\Users\\bened\\AppData\\Local\\Programs\\Python\\Python38\\lib\\site-packages\\ydata_quality\\utils\\correlations.py:73: RuntimeWarning: invalid value encountered in double_scalars\n",
      "  return np.sqrt(phi_sq_hat / np.min([k_hat - 1, r_hat - 1]))  # Note: this is strictly positive\n",
      "c:\\Users\\bened\\AppData\\Local\\Programs\\Python\\Python38\\lib\\site-packages\\ydata_quality\\utils\\correlations.py:73: RuntimeWarning: invalid value encountered in double_scalars\n",
      "  return np.sqrt(phi_sq_hat / np.min([k_hat - 1, r_hat - 1]))  # Note: this is strictly positive\n",
      "c:\\Users\\bened\\AppData\\Local\\Programs\\Python\\Python38\\lib\\site-packages\\ydata_quality\\utils\\correlations.py:73: RuntimeWarning: invalid value encountered in double_scalars\n",
      "  return np.sqrt(phi_sq_hat / np.min([k_hat - 1, r_hat - 1]))  # Note: this is strictly positive\n",
      "c:\\Users\\bened\\AppData\\Local\\Programs\\Python\\Python38\\lib\\site-packages\\ydata_quality\\utils\\correlations.py:73: RuntimeWarning: invalid value encountered in double_scalars\n",
      "  return np.sqrt(phi_sq_hat / np.min([k_hat - 1, r_hat - 1]))  # Note: this is strictly positive\n",
      "c:\\Users\\bened\\AppData\\Local\\Programs\\Python\\Python38\\lib\\site-packages\\ydata_quality\\utils\\correlations.py:73: RuntimeWarning: invalid value encountered in double_scalars\n",
      "  return np.sqrt(phi_sq_hat / np.min([k_hat - 1, r_hat - 1]))  # Note: this is strictly positive\n",
      "c:\\Users\\bened\\AppData\\Local\\Programs\\Python\\Python38\\lib\\site-packages\\scipy\\stats\\_stats_py.py:4424: ConstantInputWarning: An input array is constant; the correlation coefficient is not defined.\n",
      "  warnings.warn(stats.ConstantInputWarning(msg))\n",
      "c:\\Users\\bened\\AppData\\Local\\Programs\\Python\\Python38\\lib\\site-packages\\ydata_quality\\utils\\correlations.py:73: RuntimeWarning: invalid value encountered in double_scalars\n",
      "  return np.sqrt(phi_sq_hat / np.min([k_hat - 1, r_hat - 1]))  # Note: this is strictly positive\n",
      "c:\\Users\\bened\\AppData\\Local\\Programs\\Python\\Python38\\lib\\site-packages\\ydata_quality\\utils\\correlations.py:73: RuntimeWarning: invalid value encountered in double_scalars\n",
      "  return np.sqrt(phi_sq_hat / np.min([k_hat - 1, r_hat - 1]))  # Note: this is strictly positive\n",
      "c:\\Users\\bened\\AppData\\Local\\Programs\\Python\\Python38\\lib\\site-packages\\ydata_quality\\utils\\correlations.py:73: RuntimeWarning: invalid value encountered in double_scalars\n",
      "  return np.sqrt(phi_sq_hat / np.min([k_hat - 1, r_hat - 1]))  # Note: this is strictly positive\n",
      "c:\\Users\\bened\\AppData\\Local\\Programs\\Python\\Python38\\lib\\site-packages\\ydata_quality\\utils\\correlations.py:73: RuntimeWarning: invalid value encountered in double_scalars\n",
      "  return np.sqrt(phi_sq_hat / np.min([k_hat - 1, r_hat - 1]))  # Note: this is strictly positive\n",
      "c:\\Users\\bened\\AppData\\Local\\Programs\\Python\\Python38\\lib\\site-packages\\ydata_quality\\utils\\correlations.py:73: RuntimeWarning: invalid value encountered in double_scalars\n",
      "  return np.sqrt(phi_sq_hat / np.min([k_hat - 1, r_hat - 1]))  # Note: this is strictly positive\n",
      "c:\\Users\\bened\\AppData\\Local\\Programs\\Python\\Python38\\lib\\site-packages\\ydata_quality\\utils\\correlations.py:73: RuntimeWarning: invalid value encountered in double_scalars\n",
      "  return np.sqrt(phi_sq_hat / np.min([k_hat - 1, r_hat - 1]))  # Note: this is strictly positive\n",
      "c:\\Users\\bened\\AppData\\Local\\Programs\\Python\\Python38\\lib\\site-packages\\ydata_quality\\utils\\correlations.py:73: RuntimeWarning: invalid value encountered in double_scalars\n",
      "  return np.sqrt(phi_sq_hat / np.min([k_hat - 1, r_hat - 1]))  # Note: this is strictly positive\n",
      "c:\\Users\\bened\\AppData\\Local\\Programs\\Python\\Python38\\lib\\site-packages\\ydata_quality\\utils\\correlations.py:73: RuntimeWarning: invalid value encountered in double_scalars\n",
      "  return np.sqrt(phi_sq_hat / np.min([k_hat - 1, r_hat - 1]))  # Note: this is strictly positive\n",
      "c:\\Users\\bened\\AppData\\Local\\Programs\\Python\\Python38\\lib\\site-packages\\ydata_quality\\utils\\correlations.py:73: RuntimeWarning: invalid value encountered in double_scalars\n",
      "  return np.sqrt(phi_sq_hat / np.min([k_hat - 1, r_hat - 1]))  # Note: this is strictly positive\n",
      "c:\\Users\\bened\\AppData\\Local\\Programs\\Python\\Python38\\lib\\site-packages\\ydata_quality\\utils\\correlations.py:73: RuntimeWarning: invalid value encountered in double_scalars\n",
      "  return np.sqrt(phi_sq_hat / np.min([k_hat - 1, r_hat - 1]))  # Note: this is strictly positive\n",
      "c:\\Users\\bened\\AppData\\Local\\Programs\\Python\\Python38\\lib\\site-packages\\ydata_quality\\utils\\correlations.py:73: RuntimeWarning: invalid value encountered in double_scalars\n",
      "  return np.sqrt(phi_sq_hat / np.min([k_hat - 1, r_hat - 1]))  # Note: this is strictly positive\n",
      "c:\\Users\\bened\\AppData\\Local\\Programs\\Python\\Python38\\lib\\site-packages\\ydata_quality\\utils\\correlations.py:73: RuntimeWarning: invalid value encountered in double_scalars\n",
      "  return np.sqrt(phi_sq_hat / np.min([k_hat - 1, r_hat - 1]))  # Note: this is strictly positive\n",
      "c:\\Users\\bened\\AppData\\Local\\Programs\\Python\\Python38\\lib\\site-packages\\ydata_quality\\utils\\correlations.py:73: RuntimeWarning: invalid value encountered in double_scalars\n",
      "  return np.sqrt(phi_sq_hat / np.min([k_hat - 1, r_hat - 1]))  # Note: this is strictly positive\n",
      "c:\\Users\\bened\\AppData\\Local\\Programs\\Python\\Python38\\lib\\site-packages\\ydata_quality\\utils\\correlations.py:73: RuntimeWarning: invalid value encountered in double_scalars\n",
      "  return np.sqrt(phi_sq_hat / np.min([k_hat - 1, r_hat - 1]))  # Note: this is strictly positive\n",
      "c:\\Users\\bened\\AppData\\Local\\Programs\\Python\\Python38\\lib\\site-packages\\ydata_quality\\utils\\correlations.py:73: RuntimeWarning: invalid value encountered in double_scalars\n",
      "  return np.sqrt(phi_sq_hat / np.min([k_hat - 1, r_hat - 1]))  # Note: this is strictly positive\n",
      "c:\\Users\\bened\\AppData\\Local\\Programs\\Python\\Python38\\lib\\site-packages\\ydata_quality\\utils\\correlations.py:73: RuntimeWarning: invalid value encountered in double_scalars\n",
      "  return np.sqrt(phi_sq_hat / np.min([k_hat - 1, r_hat - 1]))  # Note: this is strictly positive\n",
      "c:\\Users\\bened\\AppData\\Local\\Programs\\Python\\Python38\\lib\\site-packages\\ydata_quality\\utils\\correlations.py:73: RuntimeWarning: invalid value encountered in double_scalars\n",
      "  return np.sqrt(phi_sq_hat / np.min([k_hat - 1, r_hat - 1]))  # Note: this is strictly positive\n",
      "c:\\Users\\bened\\AppData\\Local\\Programs\\Python\\Python38\\lib\\site-packages\\ydata_quality\\utils\\correlations.py:73: RuntimeWarning: invalid value encountered in double_scalars\n",
      "  return np.sqrt(phi_sq_hat / np.min([k_hat - 1, r_hat - 1]))  # Note: this is strictly positive\n",
      "c:\\Users\\bened\\AppData\\Local\\Programs\\Python\\Python38\\lib\\site-packages\\ydata_quality\\utils\\correlations.py:73: RuntimeWarning: invalid value encountered in double_scalars\n",
      "  return np.sqrt(phi_sq_hat / np.min([k_hat - 1, r_hat - 1]))  # Note: this is strictly positive\n",
      "c:\\Users\\bened\\AppData\\Local\\Programs\\Python\\Python38\\lib\\site-packages\\ydata_quality\\utils\\correlations.py:73: RuntimeWarning: invalid value encountered in double_scalars\n",
      "  return np.sqrt(phi_sq_hat / np.min([k_hat - 1, r_hat - 1]))  # Note: this is strictly positive\n",
      "c:\\Users\\bened\\AppData\\Local\\Programs\\Python\\Python38\\lib\\site-packages\\ydata_quality\\utils\\correlations.py:73: RuntimeWarning: invalid value encountered in double_scalars\n",
      "  return np.sqrt(phi_sq_hat / np.min([k_hat - 1, r_hat - 1]))  # Note: this is strictly positive\n",
      "c:\\Users\\bened\\AppData\\Local\\Programs\\Python\\Python38\\lib\\site-packages\\ydata_quality\\utils\\correlations.py:73: RuntimeWarning: invalid value encountered in double_scalars\n",
      "  return np.sqrt(phi_sq_hat / np.min([k_hat - 1, r_hat - 1]))  # Note: this is strictly positive\n",
      "c:\\Users\\bened\\AppData\\Local\\Programs\\Python\\Python38\\lib\\site-packages\\ydata_quality\\utils\\correlations.py:73: RuntimeWarning: invalid value encountered in double_scalars\n",
      "  return np.sqrt(phi_sq_hat / np.min([k_hat - 1, r_hat - 1]))  # Note: this is strictly positive\n",
      "c:\\Users\\bened\\AppData\\Local\\Programs\\Python\\Python38\\lib\\site-packages\\ydata_quality\\utils\\correlations.py:73: RuntimeWarning: invalid value encountered in double_scalars\n",
      "  return np.sqrt(phi_sq_hat / np.min([k_hat - 1, r_hat - 1]))  # Note: this is strictly positive\n",
      "c:\\Users\\bened\\AppData\\Local\\Programs\\Python\\Python38\\lib\\site-packages\\ydata_quality\\utils\\correlations.py:73: RuntimeWarning: invalid value encountered in double_scalars\n",
      "  return np.sqrt(phi_sq_hat / np.min([k_hat - 1, r_hat - 1]))  # Note: this is strictly positive\n",
      "c:\\Users\\bened\\AppData\\Local\\Programs\\Python\\Python38\\lib\\site-packages\\ydata_quality\\utils\\correlations.py:73: RuntimeWarning: invalid value encountered in double_scalars\n",
      "  return np.sqrt(phi_sq_hat / np.min([k_hat - 1, r_hat - 1]))  # Note: this is strictly positive\n",
      "c:\\Users\\bened\\AppData\\Local\\Programs\\Python\\Python38\\lib\\site-packages\\ydata_quality\\utils\\correlations.py:73: RuntimeWarning: invalid value encountered in double_scalars\n",
      "  return np.sqrt(phi_sq_hat / np.min([k_hat - 1, r_hat - 1]))  # Note: this is strictly positive\n",
      "c:\\Users\\bened\\AppData\\Local\\Programs\\Python\\Python38\\lib\\site-packages\\ydata_quality\\utils\\correlations.py:73: RuntimeWarning: invalid value encountered in double_scalars\n",
      "  return np.sqrt(phi_sq_hat / np.min([k_hat - 1, r_hat - 1]))  # Note: this is strictly positive\n",
      "c:\\Users\\bened\\AppData\\Local\\Programs\\Python\\Python38\\lib\\site-packages\\ydata_quality\\utils\\correlations.py:73: RuntimeWarning: invalid value encountered in double_scalars\n",
      "  return np.sqrt(phi_sq_hat / np.min([k_hat - 1, r_hat - 1]))  # Note: this is strictly positive\n",
      "c:\\Users\\bened\\AppData\\Local\\Programs\\Python\\Python38\\lib\\site-packages\\ydata_quality\\utils\\correlations.py:73: RuntimeWarning: invalid value encountered in double_scalars\n",
      "  return np.sqrt(phi_sq_hat / np.min([k_hat - 1, r_hat - 1]))  # Note: this is strictly positive\n",
      "c:\\Users\\bened\\AppData\\Local\\Programs\\Python\\Python38\\lib\\site-packages\\ydata_quality\\utils\\correlations.py:73: RuntimeWarning: invalid value encountered in double_scalars\n",
      "  return np.sqrt(phi_sq_hat / np.min([k_hat - 1, r_hat - 1]))  # Note: this is strictly positive\n",
      "c:\\Users\\bened\\AppData\\Local\\Programs\\Python\\Python38\\lib\\site-packages\\ydata_quality\\utils\\correlations.py:73: RuntimeWarning: invalid value encountered in double_scalars\n",
      "  return np.sqrt(phi_sq_hat / np.min([k_hat - 1, r_hat - 1]))  # Note: this is strictly positive\n",
      "c:\\Users\\bened\\AppData\\Local\\Programs\\Python\\Python38\\lib\\site-packages\\ydata_quality\\utils\\correlations.py:73: RuntimeWarning: invalid value encountered in double_scalars\n",
      "  return np.sqrt(phi_sq_hat / np.min([k_hat - 1, r_hat - 1]))  # Note: this is strictly positive\n",
      "c:\\Users\\bened\\AppData\\Local\\Programs\\Python\\Python38\\lib\\site-packages\\ydata_quality\\utils\\correlations.py:73: RuntimeWarning: invalid value encountered in double_scalars\n",
      "  return np.sqrt(phi_sq_hat / np.min([k_hat - 1, r_hat - 1]))  # Note: this is strictly positive\n",
      "c:\\Users\\bened\\AppData\\Local\\Programs\\Python\\Python38\\lib\\site-packages\\ydata_quality\\utils\\correlations.py:73: RuntimeWarning: invalid value encountered in double_scalars\n",
      "  return np.sqrt(phi_sq_hat / np.min([k_hat - 1, r_hat - 1]))  # Note: this is strictly positive\n",
      "c:\\Users\\bened\\AppData\\Local\\Programs\\Python\\Python38\\lib\\site-packages\\ydata_quality\\utils\\correlations.py:73: RuntimeWarning: invalid value encountered in double_scalars\n",
      "  return np.sqrt(phi_sq_hat / np.min([k_hat - 1, r_hat - 1]))  # Note: this is strictly positive\n",
      "c:\\Users\\bened\\AppData\\Local\\Programs\\Python\\Python38\\lib\\site-packages\\ydata_quality\\utils\\correlations.py:73: RuntimeWarning: invalid value encountered in double_scalars\n",
      "  return np.sqrt(phi_sq_hat / np.min([k_hat - 1, r_hat - 1]))  # Note: this is strictly positive\n",
      "c:\\Users\\bened\\AppData\\Local\\Programs\\Python\\Python38\\lib\\site-packages\\ydata_quality\\utils\\correlations.py:73: RuntimeWarning: invalid value encountered in double_scalars\n",
      "  return np.sqrt(phi_sq_hat / np.min([k_hat - 1, r_hat - 1]))  # Note: this is strictly positive\n",
      "c:\\Users\\bened\\AppData\\Local\\Programs\\Python\\Python38\\lib\\site-packages\\ydata_quality\\utils\\correlations.py:73: RuntimeWarning: invalid value encountered in double_scalars\n",
      "  return np.sqrt(phi_sq_hat / np.min([k_hat - 1, r_hat - 1]))  # Note: this is strictly positive\n",
      "c:\\Users\\bened\\AppData\\Local\\Programs\\Python\\Python38\\lib\\site-packages\\ydata_quality\\utils\\correlations.py:73: RuntimeWarning: invalid value encountered in double_scalars\n",
      "  return np.sqrt(phi_sq_hat / np.min([k_hat - 1, r_hat - 1]))  # Note: this is strictly positive\n",
      "c:\\Users\\bened\\AppData\\Local\\Programs\\Python\\Python38\\lib\\site-packages\\ydata_quality\\utils\\correlations.py:73: RuntimeWarning: invalid value encountered in double_scalars\n",
      "  return np.sqrt(phi_sq_hat / np.min([k_hat - 1, r_hat - 1]))  # Note: this is strictly positive\n",
      "c:\\Users\\bened\\AppData\\Local\\Programs\\Python\\Python38\\lib\\site-packages\\ydata_quality\\utils\\correlations.py:73: RuntimeWarning: invalid value encountered in double_scalars\n",
      "  return np.sqrt(phi_sq_hat / np.min([k_hat - 1, r_hat - 1]))  # Note: this is strictly positive\n",
      "c:\\Users\\bened\\AppData\\Local\\Programs\\Python\\Python38\\lib\\site-packages\\ydata_quality\\utils\\correlations.py:73: RuntimeWarning: invalid value encountered in double_scalars\n",
      "  return np.sqrt(phi_sq_hat / np.min([k_hat - 1, r_hat - 1]))  # Note: this is strictly positive\n",
      "c:\\Users\\bened\\AppData\\Local\\Programs\\Python\\Python38\\lib\\site-packages\\ydata_quality\\utils\\correlations.py:73: RuntimeWarning: invalid value encountered in double_scalars\n",
      "  return np.sqrt(phi_sq_hat / np.min([k_hat - 1, r_hat - 1]))  # Note: this is strictly positive\n",
      "c:\\Users\\bened\\AppData\\Local\\Programs\\Python\\Python38\\lib\\site-packages\\ydata_quality\\utils\\correlations.py:73: RuntimeWarning: invalid value encountered in double_scalars\n",
      "  return np.sqrt(phi_sq_hat / np.min([k_hat - 1, r_hat - 1]))  # Note: this is strictly positive\n",
      "c:\\Users\\bened\\AppData\\Local\\Programs\\Python\\Python38\\lib\\site-packages\\ydata_quality\\utils\\correlations.py:73: RuntimeWarning: invalid value encountered in double_scalars\n",
      "  return np.sqrt(phi_sq_hat / np.min([k_hat - 1, r_hat - 1]))  # Note: this is strictly positive\n",
      "c:\\Users\\bened\\AppData\\Local\\Programs\\Python\\Python38\\lib\\site-packages\\ydata_quality\\utils\\correlations.py:73: RuntimeWarning: invalid value encountered in double_scalars\n",
      "  return np.sqrt(phi_sq_hat / np.min([k_hat - 1, r_hat - 1]))  # Note: this is strictly positive\n",
      "c:\\Users\\bened\\AppData\\Local\\Programs\\Python\\Python38\\lib\\site-packages\\ydata_quality\\utils\\correlations.py:73: RuntimeWarning: invalid value encountered in double_scalars\n",
      "  return np.sqrt(phi_sq_hat / np.min([k_hat - 1, r_hat - 1]))  # Note: this is strictly positive\n",
      "c:\\Users\\bened\\AppData\\Local\\Programs\\Python\\Python38\\lib\\site-packages\\ydata_quality\\utils\\correlations.py:73: RuntimeWarning: invalid value encountered in double_scalars\n",
      "  return np.sqrt(phi_sq_hat / np.min([k_hat - 1, r_hat - 1]))  # Note: this is strictly positive\n",
      "c:\\Users\\bened\\AppData\\Local\\Programs\\Python\\Python38\\lib\\site-packages\\ydata_quality\\utils\\correlations.py:73: RuntimeWarning: invalid value encountered in double_scalars\n",
      "  return np.sqrt(phi_sq_hat / np.min([k_hat - 1, r_hat - 1]))  # Note: this is strictly positive\n",
      "c:\\Users\\bened\\AppData\\Local\\Programs\\Python\\Python38\\lib\\site-packages\\ydata_quality\\utils\\correlations.py:73: RuntimeWarning: invalid value encountered in double_scalars\n",
      "  return np.sqrt(phi_sq_hat / np.min([k_hat - 1, r_hat - 1]))  # Note: this is strictly positive\n",
      "c:\\Users\\bened\\AppData\\Local\\Programs\\Python\\Python38\\lib\\site-packages\\ydata_quality\\utils\\correlations.py:73: RuntimeWarning: invalid value encountered in double_scalars\n",
      "  return np.sqrt(phi_sq_hat / np.min([k_hat - 1, r_hat - 1]))  # Note: this is strictly positive\n",
      "c:\\Users\\bened\\AppData\\Local\\Programs\\Python\\Python38\\lib\\site-packages\\ydata_quality\\utils\\correlations.py:73: RuntimeWarning: invalid value encountered in double_scalars\n",
      "  return np.sqrt(phi_sq_hat / np.min([k_hat - 1, r_hat - 1]))  # Note: this is strictly positive\n",
      "c:\\Users\\bened\\AppData\\Local\\Programs\\Python\\Python38\\lib\\site-packages\\ydata_quality\\utils\\correlations.py:73: RuntimeWarning: invalid value encountered in double_scalars\n",
      "  return np.sqrt(phi_sq_hat / np.min([k_hat - 1, r_hat - 1]))  # Note: this is strictly positive\n",
      "c:\\Users\\bened\\AppData\\Local\\Programs\\Python\\Python38\\lib\\site-packages\\ydata_quality\\utils\\correlations.py:73: RuntimeWarning: invalid value encountered in double_scalars\n",
      "  return np.sqrt(phi_sq_hat / np.min([k_hat - 1, r_hat - 1]))  # Note: this is strictly positive\n",
      "c:\\Users\\bened\\AppData\\Local\\Programs\\Python\\Python38\\lib\\site-packages\\ydata_quality\\utils\\correlations.py:73: RuntimeWarning: invalid value encountered in double_scalars\n",
      "  return np.sqrt(phi_sq_hat / np.min([k_hat - 1, r_hat - 1]))  # Note: this is strictly positive\n",
      "c:\\Users\\bened\\AppData\\Local\\Programs\\Python\\Python38\\lib\\site-packages\\ydata_quality\\utils\\correlations.py:73: RuntimeWarning: invalid value encountered in double_scalars\n",
      "  return np.sqrt(phi_sq_hat / np.min([k_hat - 1, r_hat - 1]))  # Note: this is strictly positive\n",
      "c:\\Users\\bened\\AppData\\Local\\Programs\\Python\\Python38\\lib\\site-packages\\ydata_quality\\utils\\correlations.py:73: RuntimeWarning: invalid value encountered in double_scalars\n",
      "  return np.sqrt(phi_sq_hat / np.min([k_hat - 1, r_hat - 1]))  # Note: this is strictly positive\n",
      "c:\\Users\\bened\\AppData\\Local\\Programs\\Python\\Python38\\lib\\site-packages\\ydata_quality\\utils\\correlations.py:73: RuntimeWarning: invalid value encountered in double_scalars\n",
      "  return np.sqrt(phi_sq_hat / np.min([k_hat - 1, r_hat - 1]))  # Note: this is strictly positive\n",
      "c:\\Users\\bened\\AppData\\Local\\Programs\\Python\\Python38\\lib\\site-packages\\ydata_quality\\utils\\correlations.py:73: RuntimeWarning: invalid value encountered in double_scalars\n",
      "  return np.sqrt(phi_sq_hat / np.min([k_hat - 1, r_hat - 1]))  # Note: this is strictly positive\n",
      "c:\\Users\\bened\\AppData\\Local\\Programs\\Python\\Python38\\lib\\site-packages\\ydata_quality\\utils\\correlations.py:73: RuntimeWarning: invalid value encountered in double_scalars\n",
      "  return np.sqrt(phi_sq_hat / np.min([k_hat - 1, r_hat - 1]))  # Note: this is strictly positive\n",
      "c:\\Users\\bened\\AppData\\Local\\Programs\\Python\\Python38\\lib\\site-packages\\ydata_quality\\utils\\correlations.py:73: RuntimeWarning: invalid value encountered in double_scalars\n",
      "  return np.sqrt(phi_sq_hat / np.min([k_hat - 1, r_hat - 1]))  # Note: this is strictly positive\n",
      "c:\\Users\\bened\\AppData\\Local\\Programs\\Python\\Python38\\lib\\site-packages\\ydata_quality\\utils\\correlations.py:73: RuntimeWarning: invalid value encountered in double_scalars\n",
      "  return np.sqrt(phi_sq_hat / np.min([k_hat - 1, r_hat - 1]))  # Note: this is strictly positive\n",
      "c:\\Users\\bened\\AppData\\Local\\Programs\\Python\\Python38\\lib\\site-packages\\ydata_quality\\utils\\correlations.py:73: RuntimeWarning: invalid value encountered in double_scalars\n",
      "  return np.sqrt(phi_sq_hat / np.min([k_hat - 1, r_hat - 1]))  # Note: this is strictly positive\n",
      "c:\\Users\\bened\\AppData\\Local\\Programs\\Python\\Python38\\lib\\site-packages\\ydata_quality\\utils\\correlations.py:73: RuntimeWarning: invalid value encountered in double_scalars\n",
      "  return np.sqrt(phi_sq_hat / np.min([k_hat - 1, r_hat - 1]))  # Note: this is strictly positive\n",
      "c:\\Users\\bened\\AppData\\Local\\Programs\\Python\\Python38\\lib\\site-packages\\ydata_quality\\utils\\correlations.py:73: RuntimeWarning: invalid value encountered in double_scalars\n",
      "  return np.sqrt(phi_sq_hat / np.min([k_hat - 1, r_hat - 1]))  # Note: this is strictly positive\n",
      "c:\\Users\\bened\\AppData\\Local\\Programs\\Python\\Python38\\lib\\site-packages\\ydata_quality\\utils\\correlations.py:73: RuntimeWarning: invalid value encountered in double_scalars\n",
      "  return np.sqrt(phi_sq_hat / np.min([k_hat - 1, r_hat - 1]))  # Note: this is strictly positive\n",
      "c:\\Users\\bened\\AppData\\Local\\Programs\\Python\\Python38\\lib\\site-packages\\ydata_quality\\utils\\correlations.py:73: RuntimeWarning: invalid value encountered in double_scalars\n",
      "  return np.sqrt(phi_sq_hat / np.min([k_hat - 1, r_hat - 1]))  # Note: this is strictly positive\n",
      "c:\\Users\\bened\\AppData\\Local\\Programs\\Python\\Python38\\lib\\site-packages\\ydata_quality\\utils\\correlations.py:73: RuntimeWarning: invalid value encountered in double_scalars\n",
      "  return np.sqrt(phi_sq_hat / np.min([k_hat - 1, r_hat - 1]))  # Note: this is strictly positive\n",
      "c:\\Users\\bened\\AppData\\Local\\Programs\\Python\\Python38\\lib\\site-packages\\ydata_quality\\utils\\correlations.py:73: RuntimeWarning: invalid value encountered in double_scalars\n",
      "  return np.sqrt(phi_sq_hat / np.min([k_hat - 1, r_hat - 1]))  # Note: this is strictly positive\n",
      "c:\\Users\\bened\\AppData\\Local\\Programs\\Python\\Python38\\lib\\site-packages\\ydata_quality\\utils\\correlations.py:73: RuntimeWarning: invalid value encountered in double_scalars\n",
      "  return np.sqrt(phi_sq_hat / np.min([k_hat - 1, r_hat - 1]))  # Note: this is strictly positive\n",
      "c:\\Users\\bened\\AppData\\Local\\Programs\\Python\\Python38\\lib\\site-packages\\ydata_quality\\utils\\correlations.py:73: RuntimeWarning: invalid value encountered in double_scalars\n",
      "  return np.sqrt(phi_sq_hat / np.min([k_hat - 1, r_hat - 1]))  # Note: this is strictly positive\n",
      "c:\\Users\\bened\\AppData\\Local\\Programs\\Python\\Python38\\lib\\site-packages\\ydata_quality\\utils\\correlations.py:73: RuntimeWarning: invalid value encountered in double_scalars\n",
      "  return np.sqrt(phi_sq_hat / np.min([k_hat - 1, r_hat - 1]))  # Note: this is strictly positive\n",
      "c:\\Users\\bened\\AppData\\Local\\Programs\\Python\\Python38\\lib\\site-packages\\ydata_quality\\utils\\correlations.py:73: RuntimeWarning: invalid value encountered in double_scalars\n",
      "  return np.sqrt(phi_sq_hat / np.min([k_hat - 1, r_hat - 1]))  # Note: this is strictly positive\n",
      "c:\\Users\\bened\\AppData\\Local\\Programs\\Python\\Python38\\lib\\site-packages\\ydata_quality\\utils\\correlations.py:73: RuntimeWarning: invalid value encountered in double_scalars\n",
      "  return np.sqrt(phi_sq_hat / np.min([k_hat - 1, r_hat - 1]))  # Note: this is strictly positive\n",
      "c:\\Users\\bened\\AppData\\Local\\Programs\\Python\\Python38\\lib\\site-packages\\ydata_quality\\utils\\correlations.py:73: RuntimeWarning: invalid value encountered in double_scalars\n",
      "  return np.sqrt(phi_sq_hat / np.min([k_hat - 1, r_hat - 1]))  # Note: this is strictly positive\n",
      "c:\\Users\\bened\\AppData\\Local\\Programs\\Python\\Python38\\lib\\site-packages\\ydata_quality\\utils\\correlations.py:73: RuntimeWarning: invalid value encountered in double_scalars\n",
      "  return np.sqrt(phi_sq_hat / np.min([k_hat - 1, r_hat - 1]))  # Note: this is strictly positive\n",
      "c:\\Users\\bened\\AppData\\Local\\Programs\\Python\\Python38\\lib\\site-packages\\ydata_quality\\utils\\correlations.py:73: RuntimeWarning: invalid value encountered in double_scalars\n",
      "  return np.sqrt(phi_sq_hat / np.min([k_hat - 1, r_hat - 1]))  # Note: this is strictly positive\n",
      "c:\\Users\\bened\\AppData\\Local\\Programs\\Python\\Python38\\lib\\site-packages\\ydata_quality\\utils\\correlations.py:73: RuntimeWarning: invalid value encountered in double_scalars\n",
      "  return np.sqrt(phi_sq_hat / np.min([k_hat - 1, r_hat - 1]))  # Note: this is strictly positive\n",
      "c:\\Users\\bened\\AppData\\Local\\Programs\\Python\\Python38\\lib\\site-packages\\ydata_quality\\utils\\correlations.py:73: RuntimeWarning: invalid value encountered in double_scalars\n",
      "  return np.sqrt(phi_sq_hat / np.min([k_hat - 1, r_hat - 1]))  # Note: this is strictly positive\n",
      "c:\\Users\\bened\\AppData\\Local\\Programs\\Python\\Python38\\lib\\site-packages\\ydata_quality\\utils\\correlations.py:73: RuntimeWarning: invalid value encountered in double_scalars\n",
      "  return np.sqrt(phi_sq_hat / np.min([k_hat - 1, r_hat - 1]))  # Note: this is strictly positive\n",
      "c:\\Users\\bened\\AppData\\Local\\Programs\\Python\\Python38\\lib\\site-packages\\ydata_quality\\utils\\correlations.py:73: RuntimeWarning: invalid value encountered in double_scalars\n",
      "  return np.sqrt(phi_sq_hat / np.min([k_hat - 1, r_hat - 1]))  # Note: this is strictly positive\n",
      "c:\\Users\\bened\\AppData\\Local\\Programs\\Python\\Python38\\lib\\site-packages\\ydata_quality\\utils\\correlations.py:73: RuntimeWarning: invalid value encountered in double_scalars\n",
      "  return np.sqrt(phi_sq_hat / np.min([k_hat - 1, r_hat - 1]))  # Note: this is strictly positive\n",
      "c:\\Users\\bened\\AppData\\Local\\Programs\\Python\\Python38\\lib\\site-packages\\ydata_quality\\utils\\correlations.py:73: RuntimeWarning: invalid value encountered in double_scalars\n",
      "  return np.sqrt(phi_sq_hat / np.min([k_hat - 1, r_hat - 1]))  # Note: this is strictly positive\n",
      "c:\\Users\\bened\\AppData\\Local\\Programs\\Python\\Python38\\lib\\site-packages\\ydata_quality\\utils\\correlations.py:73: RuntimeWarning: invalid value encountered in double_scalars\n",
      "  return np.sqrt(phi_sq_hat / np.min([k_hat - 1, r_hat - 1]))  # Note: this is strictly positive\n",
      "c:\\Users\\bened\\AppData\\Local\\Programs\\Python\\Python38\\lib\\site-packages\\ydata_quality\\utils\\correlations.py:73: RuntimeWarning: invalid value encountered in double_scalars\n",
      "  return np.sqrt(phi_sq_hat / np.min([k_hat - 1, r_hat - 1]))  # Note: this is strictly positive\n",
      "c:\\Users\\bened\\AppData\\Local\\Programs\\Python\\Python38\\lib\\site-packages\\ydata_quality\\utils\\correlations.py:73: RuntimeWarning: invalid value encountered in double_scalars\n",
      "  return np.sqrt(phi_sq_hat / np.min([k_hat - 1, r_hat - 1]))  # Note: this is strictly positive\n",
      "c:\\Users\\bened\\AppData\\Local\\Programs\\Python\\Python38\\lib\\site-packages\\ydata_quality\\utils\\correlations.py:73: RuntimeWarning: invalid value encountered in double_scalars\n",
      "  return np.sqrt(phi_sq_hat / np.min([k_hat - 1, r_hat - 1]))  # Note: this is strictly positive\n",
      "c:\\Users\\bened\\AppData\\Local\\Programs\\Python\\Python38\\lib\\site-packages\\ydata_quality\\utils\\correlations.py:73: RuntimeWarning: invalid value encountered in double_scalars\n",
      "  return np.sqrt(phi_sq_hat / np.min([k_hat - 1, r_hat - 1]))  # Note: this is strictly positive\n",
      "c:\\Users\\bened\\AppData\\Local\\Programs\\Python\\Python38\\lib\\site-packages\\ydata_quality\\utils\\correlations.py:73: RuntimeWarning: invalid value encountered in double_scalars\n",
      "  return np.sqrt(phi_sq_hat / np.min([k_hat - 1, r_hat - 1]))  # Note: this is strictly positive\n",
      "c:\\Users\\bened\\AppData\\Local\\Programs\\Python\\Python38\\lib\\site-packages\\ydata_quality\\utils\\correlations.py:73: RuntimeWarning: invalid value encountered in double_scalars\n",
      "  return np.sqrt(phi_sq_hat / np.min([k_hat - 1, r_hat - 1]))  # Note: this is strictly positive\n",
      "c:\\Users\\bened\\AppData\\Local\\Programs\\Python\\Python38\\lib\\site-packages\\ydata_quality\\utils\\correlations.py:73: RuntimeWarning: invalid value encountered in double_scalars\n",
      "  return np.sqrt(phi_sq_hat / np.min([k_hat - 1, r_hat - 1]))  # Note: this is strictly positive\n",
      "c:\\Users\\bened\\AppData\\Local\\Programs\\Python\\Python38\\lib\\site-packages\\ydata_quality\\utils\\correlations.py:73: RuntimeWarning: invalid value encountered in double_scalars\n",
      "  return np.sqrt(phi_sq_hat / np.min([k_hat - 1, r_hat - 1]))  # Note: this is strictly positive\n",
      "c:\\Users\\bened\\AppData\\Local\\Programs\\Python\\Python38\\lib\\site-packages\\ydata_quality\\utils\\correlations.py:73: RuntimeWarning: invalid value encountered in double_scalars\n",
      "  return np.sqrt(phi_sq_hat / np.min([k_hat - 1, r_hat - 1]))  # Note: this is strictly positive\n",
      "c:\\Users\\bened\\AppData\\Local\\Programs\\Python\\Python38\\lib\\site-packages\\ydata_quality\\utils\\correlations.py:73: RuntimeWarning: invalid value encountered in double_scalars\n",
      "  return np.sqrt(phi_sq_hat / np.min([k_hat - 1, r_hat - 1]))  # Note: this is strictly positive\n",
      "c:\\Users\\bened\\AppData\\Local\\Programs\\Python\\Python38\\lib\\site-packages\\ydata_quality\\utils\\correlations.py:73: RuntimeWarning: invalid value encountered in double_scalars\n",
      "  return np.sqrt(phi_sq_hat / np.min([k_hat - 1, r_hat - 1]))  # Note: this is strictly positive\n",
      "c:\\Users\\bened\\AppData\\Local\\Programs\\Python\\Python38\\lib\\site-packages\\ydata_quality\\utils\\correlations.py:73: RuntimeWarning: invalid value encountered in double_scalars\n",
      "  return np.sqrt(phi_sq_hat / np.min([k_hat - 1, r_hat - 1]))  # Note: this is strictly positive\n",
      "c:\\Users\\bened\\AppData\\Local\\Programs\\Python\\Python38\\lib\\site-packages\\ydata_quality\\utils\\correlations.py:73: RuntimeWarning: invalid value encountered in double_scalars\n",
      "  return np.sqrt(phi_sq_hat / np.min([k_hat - 1, r_hat - 1]))  # Note: this is strictly positive\n",
      "c:\\Users\\bened\\AppData\\Local\\Programs\\Python\\Python38\\lib\\site-packages\\ydata_quality\\utils\\correlations.py:73: RuntimeWarning: invalid value encountered in double_scalars\n",
      "  return np.sqrt(phi_sq_hat / np.min([k_hat - 1, r_hat - 1]))  # Note: this is strictly positive\n",
      "c:\\Users\\bened\\AppData\\Local\\Programs\\Python\\Python38\\lib\\site-packages\\ydata_quality\\utils\\correlations.py:73: RuntimeWarning: invalid value encountered in double_scalars\n",
      "  return np.sqrt(phi_sq_hat / np.min([k_hat - 1, r_hat - 1]))  # Note: this is strictly positive\n",
      "c:\\Users\\bened\\AppData\\Local\\Programs\\Python\\Python38\\lib\\site-packages\\ydata_quality\\utils\\correlations.py:73: RuntimeWarning: invalid value encountered in double_scalars\n",
      "  return np.sqrt(phi_sq_hat / np.min([k_hat - 1, r_hat - 1]))  # Note: this is strictly positive\n",
      "c:\\Users\\bened\\AppData\\Local\\Programs\\Python\\Python38\\lib\\site-packages\\ydata_quality\\utils\\correlations.py:73: RuntimeWarning: invalid value encountered in double_scalars\n",
      "  return np.sqrt(phi_sq_hat / np.min([k_hat - 1, r_hat - 1]))  # Note: this is strictly positive\n",
      "c:\\Users\\bened\\AppData\\Local\\Programs\\Python\\Python38\\lib\\site-packages\\ydata_quality\\utils\\correlations.py:73: RuntimeWarning: invalid value encountered in double_scalars\n",
      "  return np.sqrt(phi_sq_hat / np.min([k_hat - 1, r_hat - 1]))  # Note: this is strictly positive\n",
      "c:\\Users\\bened\\AppData\\Local\\Programs\\Python\\Python38\\lib\\site-packages\\ydata_quality\\utils\\correlations.py:73: RuntimeWarning: invalid value encountered in double_scalars\n",
      "  return np.sqrt(phi_sq_hat / np.min([k_hat - 1, r_hat - 1]))  # Note: this is strictly positive\n",
      "c:\\Users\\bened\\AppData\\Local\\Programs\\Python\\Python38\\lib\\site-packages\\ydata_quality\\utils\\correlations.py:73: RuntimeWarning: invalid value encountered in double_scalars\n",
      "  return np.sqrt(phi_sq_hat / np.min([k_hat - 1, r_hat - 1]))  # Note: this is strictly positive\n",
      "c:\\Users\\bened\\AppData\\Local\\Programs\\Python\\Python38\\lib\\site-packages\\ydata_quality\\utils\\correlations.py:73: RuntimeWarning: invalid value encountered in double_scalars\n",
      "  return np.sqrt(phi_sq_hat / np.min([k_hat - 1, r_hat - 1]))  # Note: this is strictly positive\n",
      "c:\\Users\\bened\\AppData\\Local\\Programs\\Python\\Python38\\lib\\site-packages\\ydata_quality\\utils\\correlations.py:73: RuntimeWarning: invalid value encountered in double_scalars\n",
      "  return np.sqrt(phi_sq_hat / np.min([k_hat - 1, r_hat - 1]))  # Note: this is strictly positive\n",
      "c:\\Users\\bened\\AppData\\Local\\Programs\\Python\\Python38\\lib\\site-packages\\ydata_quality\\utils\\correlations.py:73: RuntimeWarning: invalid value encountered in double_scalars\n",
      "  return np.sqrt(phi_sq_hat / np.min([k_hat - 1, r_hat - 1]))  # Note: this is strictly positive\n",
      "c:\\Users\\bened\\AppData\\Local\\Programs\\Python\\Python38\\lib\\site-packages\\ydata_quality\\utils\\correlations.py:73: RuntimeWarning: invalid value encountered in double_scalars\n",
      "  return np.sqrt(phi_sq_hat / np.min([k_hat - 1, r_hat - 1]))  # Note: this is strictly positive\n",
      "c:\\Users\\bened\\AppData\\Local\\Programs\\Python\\Python38\\lib\\site-packages\\ydata_quality\\utils\\correlations.py:73: RuntimeWarning: invalid value encountered in double_scalars\n",
      "  return np.sqrt(phi_sq_hat / np.min([k_hat - 1, r_hat - 1]))  # Note: this is strictly positive\n",
      "c:\\Users\\bened\\AppData\\Local\\Programs\\Python\\Python38\\lib\\site-packages\\ydata_quality\\utils\\correlations.py:73: RuntimeWarning: invalid value encountered in double_scalars\n",
      "  return np.sqrt(phi_sq_hat / np.min([k_hat - 1, r_hat - 1]))  # Note: this is strictly positive\n",
      "c:\\Users\\bened\\AppData\\Local\\Programs\\Python\\Python38\\lib\\site-packages\\ydata_quality\\utils\\correlations.py:73: RuntimeWarning: invalid value encountered in double_scalars\n",
      "  return np.sqrt(phi_sq_hat / np.min([k_hat - 1, r_hat - 1]))  # Note: this is strictly positive\n",
      "c:\\Users\\bened\\AppData\\Local\\Programs\\Python\\Python38\\lib\\site-packages\\ydata_quality\\utils\\correlations.py:73: RuntimeWarning: invalid value encountered in double_scalars\n",
      "  return np.sqrt(phi_sq_hat / np.min([k_hat - 1, r_hat - 1]))  # Note: this is strictly positive\n",
      "c:\\Users\\bened\\AppData\\Local\\Programs\\Python\\Python38\\lib\\site-packages\\ydata_quality\\utils\\correlations.py:73: RuntimeWarning: invalid value encountered in double_scalars\n",
      "  return np.sqrt(phi_sq_hat / np.min([k_hat - 1, r_hat - 1]))  # Note: this is strictly positive\n",
      "c:\\Users\\bened\\AppData\\Local\\Programs\\Python\\Python38\\lib\\site-packages\\ydata_quality\\utils\\correlations.py:73: RuntimeWarning: invalid value encountered in double_scalars\n",
      "  return np.sqrt(phi_sq_hat / np.min([k_hat - 1, r_hat - 1]))  # Note: this is strictly positive\n",
      "c:\\Users\\bened\\AppData\\Local\\Programs\\Python\\Python38\\lib\\site-packages\\ydata_quality\\utils\\correlations.py:73: RuntimeWarning: invalid value encountered in double_scalars\n",
      "  return np.sqrt(phi_sq_hat / np.min([k_hat - 1, r_hat - 1]))  # Note: this is strictly positive\n",
      "c:\\Users\\bened\\AppData\\Local\\Programs\\Python\\Python38\\lib\\site-packages\\ydata_quality\\utils\\correlations.py:73: RuntimeWarning: invalid value encountered in double_scalars\n",
      "  return np.sqrt(phi_sq_hat / np.min([k_hat - 1, r_hat - 1]))  # Note: this is strictly positive\n",
      "c:\\Users\\bened\\AppData\\Local\\Programs\\Python\\Python38\\lib\\site-packages\\ydata_quality\\utils\\correlations.py:73: RuntimeWarning: invalid value encountered in double_scalars\n",
      "  return np.sqrt(phi_sq_hat / np.min([k_hat - 1, r_hat - 1]))  # Note: this is strictly positive\n",
      "c:\\Users\\bened\\AppData\\Local\\Programs\\Python\\Python38\\lib\\site-packages\\ydata_quality\\utils\\correlations.py:73: RuntimeWarning: invalid value encountered in double_scalars\n",
      "  return np.sqrt(phi_sq_hat / np.min([k_hat - 1, r_hat - 1]))  # Note: this is strictly positive\n",
      "c:\\Users\\bened\\AppData\\Local\\Programs\\Python\\Python38\\lib\\site-packages\\ydata_quality\\utils\\correlations.py:73: RuntimeWarning: invalid value encountered in double_scalars\n",
      "  return np.sqrt(phi_sq_hat / np.min([k_hat - 1, r_hat - 1]))  # Note: this is strictly positive\n",
      "c:\\Users\\bened\\AppData\\Local\\Programs\\Python\\Python38\\lib\\site-packages\\ydata_quality\\utils\\correlations.py:73: RuntimeWarning: invalid value encountered in double_scalars\n",
      "  return np.sqrt(phi_sq_hat / np.min([k_hat - 1, r_hat - 1]))  # Note: this is strictly positive\n",
      "c:\\Users\\bened\\AppData\\Local\\Programs\\Python\\Python38\\lib\\site-packages\\ydata_quality\\utils\\correlations.py:73: RuntimeWarning: invalid value encountered in double_scalars\n",
      "  return np.sqrt(phi_sq_hat / np.min([k_hat - 1, r_hat - 1]))  # Note: this is strictly positive\n",
      "c:\\Users\\bened\\AppData\\Local\\Programs\\Python\\Python38\\lib\\site-packages\\ydata_quality\\utils\\correlations.py:73: RuntimeWarning: invalid value encountered in double_scalars\n",
      "  return np.sqrt(phi_sq_hat / np.min([k_hat - 1, r_hat - 1]))  # Note: this is strictly positive\n",
      "c:\\Users\\bened\\AppData\\Local\\Programs\\Python\\Python38\\lib\\site-packages\\ydata_quality\\utils\\correlations.py:73: RuntimeWarning: invalid value encountered in double_scalars\n",
      "  return np.sqrt(phi_sq_hat / np.min([k_hat - 1, r_hat - 1]))  # Note: this is strictly positive\n",
      "c:\\Users\\bened\\AppData\\Local\\Programs\\Python\\Python38\\lib\\site-packages\\ydata_quality\\utils\\correlations.py:73: RuntimeWarning: invalid value encountered in double_scalars\n",
      "  return np.sqrt(phi_sq_hat / np.min([k_hat - 1, r_hat - 1]))  # Note: this is strictly positive\n",
      "c:\\Users\\bened\\AppData\\Local\\Programs\\Python\\Python38\\lib\\site-packages\\ydata_quality\\utils\\correlations.py:73: RuntimeWarning: invalid value encountered in double_scalars\n",
      "  return np.sqrt(phi_sq_hat / np.min([k_hat - 1, r_hat - 1]))  # Note: this is strictly positive\n",
      "c:\\Users\\bened\\AppData\\Local\\Programs\\Python\\Python38\\lib\\site-packages\\ydata_quality\\utils\\correlations.py:73: RuntimeWarning: invalid value encountered in double_scalars\n",
      "  return np.sqrt(phi_sq_hat / np.min([k_hat - 1, r_hat - 1]))  # Note: this is strictly positive\n",
      "c:\\Users\\bened\\AppData\\Local\\Programs\\Python\\Python38\\lib\\site-packages\\ydata_quality\\utils\\correlations.py:73: RuntimeWarning: invalid value encountered in double_scalars\n",
      "  return np.sqrt(phi_sq_hat / np.min([k_hat - 1, r_hat - 1]))  # Note: this is strictly positive\n",
      "c:\\Users\\bened\\AppData\\Local\\Programs\\Python\\Python38\\lib\\site-packages\\ydata_quality\\utils\\correlations.py:73: RuntimeWarning: invalid value encountered in double_scalars\n",
      "  return np.sqrt(phi_sq_hat / np.min([k_hat - 1, r_hat - 1]))  # Note: this is strictly positive\n",
      "c:\\Users\\bened\\AppData\\Local\\Programs\\Python\\Python38\\lib\\site-packages\\ydata_quality\\utils\\correlations.py:73: RuntimeWarning: invalid value encountered in double_scalars\n",
      "  return np.sqrt(phi_sq_hat / np.min([k_hat - 1, r_hat - 1]))  # Note: this is strictly positive\n",
      "c:\\Users\\bened\\AppData\\Local\\Programs\\Python\\Python38\\lib\\site-packages\\ydata_quality\\utils\\correlations.py:73: RuntimeWarning: invalid value encountered in double_scalars\n",
      "  return np.sqrt(phi_sq_hat / np.min([k_hat - 1, r_hat - 1]))  # Note: this is strictly positive\n",
      "c:\\Users\\bened\\AppData\\Local\\Programs\\Python\\Python38\\lib\\site-packages\\ydata_quality\\utils\\correlations.py:73: RuntimeWarning: invalid value encountered in double_scalars\n",
      "  return np.sqrt(phi_sq_hat / np.min([k_hat - 1, r_hat - 1]))  # Note: this is strictly positive\n",
      "c:\\Users\\bened\\AppData\\Local\\Programs\\Python\\Python38\\lib\\site-packages\\ydata_quality\\utils\\correlations.py:73: RuntimeWarning: invalid value encountered in double_scalars\n",
      "  return np.sqrt(phi_sq_hat / np.min([k_hat - 1, r_hat - 1]))  # Note: this is strictly positive\n",
      "c:\\Users\\bened\\AppData\\Local\\Programs\\Python\\Python38\\lib\\site-packages\\ydata_quality\\utils\\correlations.py:73: RuntimeWarning: invalid value encountered in double_scalars\n",
      "  return np.sqrt(phi_sq_hat / np.min([k_hat - 1, r_hat - 1]))  # Note: this is strictly positive\n",
      "c:\\Users\\bened\\AppData\\Local\\Programs\\Python\\Python38\\lib\\site-packages\\ydata_quality\\utils\\correlations.py:73: RuntimeWarning: invalid value encountered in double_scalars\n",
      "  return np.sqrt(phi_sq_hat / np.min([k_hat - 1, r_hat - 1]))  # Note: this is strictly positive\n",
      "c:\\Users\\bened\\AppData\\Local\\Programs\\Python\\Python38\\lib\\site-packages\\ydata_quality\\utils\\correlations.py:73: RuntimeWarning: invalid value encountered in double_scalars\n",
      "  return np.sqrt(phi_sq_hat / np.min([k_hat - 1, r_hat - 1]))  # Note: this is strictly positive\n",
      "c:\\Users\\bened\\AppData\\Local\\Programs\\Python\\Python38\\lib\\site-packages\\ydata_quality\\utils\\correlations.py:73: RuntimeWarning: invalid value encountered in double_scalars\n",
      "  return np.sqrt(phi_sq_hat / np.min([k_hat - 1, r_hat - 1]))  # Note: this is strictly positive\n",
      "c:\\Users\\bened\\AppData\\Local\\Programs\\Python\\Python38\\lib\\site-packages\\ydata_quality\\utils\\correlations.py:73: RuntimeWarning: invalid value encountered in double_scalars\n",
      "  return np.sqrt(phi_sq_hat / np.min([k_hat - 1, r_hat - 1]))  # Note: this is strictly positive\n",
      "c:\\Users\\bened\\AppData\\Local\\Programs\\Python\\Python38\\lib\\site-packages\\ydata_quality\\utils\\correlations.py:73: RuntimeWarning: invalid value encountered in double_scalars\n",
      "  return np.sqrt(phi_sq_hat / np.min([k_hat - 1, r_hat - 1]))  # Note: this is strictly positive\n",
      "c:\\Users\\bened\\AppData\\Local\\Programs\\Python\\Python38\\lib\\site-packages\\ydata_quality\\utils\\correlations.py:73: RuntimeWarning: invalid value encountered in double_scalars\n",
      "  return np.sqrt(phi_sq_hat / np.min([k_hat - 1, r_hat - 1]))  # Note: this is strictly positive\n",
      "c:\\Users\\bened\\AppData\\Local\\Programs\\Python\\Python38\\lib\\site-packages\\ydata_quality\\utils\\correlations.py:73: RuntimeWarning: invalid value encountered in double_scalars\n",
      "  return np.sqrt(phi_sq_hat / np.min([k_hat - 1, r_hat - 1]))  # Note: this is strictly positive\n",
      "c:\\Users\\bened\\AppData\\Local\\Programs\\Python\\Python38\\lib\\site-packages\\ydata_quality\\utils\\correlations.py:73: RuntimeWarning: invalid value encountered in double_scalars\n",
      "  return np.sqrt(phi_sq_hat / np.min([k_hat - 1, r_hat - 1]))  # Note: this is strictly positive\n",
      "c:\\Users\\bened\\AppData\\Local\\Programs\\Python\\Python38\\lib\\site-packages\\ydata_quality\\utils\\correlations.py:73: RuntimeWarning: invalid value encountered in double_scalars\n",
      "  return np.sqrt(phi_sq_hat / np.min([k_hat - 1, r_hat - 1]))  # Note: this is strictly positive\n",
      "c:\\Users\\bened\\AppData\\Local\\Programs\\Python\\Python38\\lib\\site-packages\\ydata_quality\\utils\\correlations.py:73: RuntimeWarning: invalid value encountered in double_scalars\n",
      "  return np.sqrt(phi_sq_hat / np.min([k_hat - 1, r_hat - 1]))  # Note: this is strictly positive\n",
      "c:\\Users\\bened\\AppData\\Local\\Programs\\Python\\Python38\\lib\\site-packages\\ydata_quality\\utils\\correlations.py:73: RuntimeWarning: invalid value encountered in double_scalars\n",
      "  return np.sqrt(phi_sq_hat / np.min([k_hat - 1, r_hat - 1]))  # Note: this is strictly positive\n",
      "c:\\Users\\bened\\AppData\\Local\\Programs\\Python\\Python38\\lib\\site-packages\\ydata_quality\\utils\\correlations.py:73: RuntimeWarning: invalid value encountered in double_scalars\n",
      "  return np.sqrt(phi_sq_hat / np.min([k_hat - 1, r_hat - 1]))  # Note: this is strictly positive\n",
      "c:\\Users\\bened\\AppData\\Local\\Programs\\Python\\Python38\\lib\\site-packages\\ydata_quality\\utils\\correlations.py:73: RuntimeWarning: invalid value encountered in double_scalars\n",
      "  return np.sqrt(phi_sq_hat / np.min([k_hat - 1, r_hat - 1]))  # Note: this is strictly positive\n",
      "c:\\Users\\bened\\AppData\\Local\\Programs\\Python\\Python38\\lib\\site-packages\\ydata_quality\\utils\\correlations.py:73: RuntimeWarning: invalid value encountered in double_scalars\n",
      "  return np.sqrt(phi_sq_hat / np.min([k_hat - 1, r_hat - 1]))  # Note: this is strictly positive\n",
      "c:\\Users\\bened\\AppData\\Local\\Programs\\Python\\Python38\\lib\\site-packages\\ydata_quality\\utils\\correlations.py:73: RuntimeWarning: invalid value encountered in double_scalars\n",
      "  return np.sqrt(phi_sq_hat / np.min([k_hat - 1, r_hat - 1]))  # Note: this is strictly positive\n",
      "c:\\Users\\bened\\AppData\\Local\\Programs\\Python\\Python38\\lib\\site-packages\\ydata_quality\\utils\\correlations.py:73: RuntimeWarning: invalid value encountered in double_scalars\n",
      "  return np.sqrt(phi_sq_hat / np.min([k_hat - 1, r_hat - 1]))  # Note: this is strictly positive\n",
      "c:\\Users\\bened\\AppData\\Local\\Programs\\Python\\Python38\\lib\\site-packages\\ydata_quality\\utils\\correlations.py:73: RuntimeWarning: invalid value encountered in double_scalars\n",
      "  return np.sqrt(phi_sq_hat / np.min([k_hat - 1, r_hat - 1]))  # Note: this is strictly positive\n",
      "c:\\Users\\bened\\AppData\\Local\\Programs\\Python\\Python38\\lib\\site-packages\\ydata_quality\\utils\\correlations.py:73: RuntimeWarning: invalid value encountered in double_scalars\n",
      "  return np.sqrt(phi_sq_hat / np.min([k_hat - 1, r_hat - 1]))  # Note: this is strictly positive\n",
      "c:\\Users\\bened\\AppData\\Local\\Programs\\Python\\Python38\\lib\\site-packages\\ydata_quality\\utils\\correlations.py:73: RuntimeWarning: invalid value encountered in double_scalars\n",
      "  return np.sqrt(phi_sq_hat / np.min([k_hat - 1, r_hat - 1]))  # Note: this is strictly positive\n",
      "c:\\Users\\bened\\AppData\\Local\\Programs\\Python\\Python38\\lib\\site-packages\\ydata_quality\\utils\\correlations.py:73: RuntimeWarning: invalid value encountered in double_scalars\n",
      "  return np.sqrt(phi_sq_hat / np.min([k_hat - 1, r_hat - 1]))  # Note: this is strictly positive\n",
      "c:\\Users\\bened\\AppData\\Local\\Programs\\Python\\Python38\\lib\\site-packages\\ydata_quality\\utils\\correlations.py:73: RuntimeWarning: invalid value encountered in double_scalars\n",
      "  return np.sqrt(phi_sq_hat / np.min([k_hat - 1, r_hat - 1]))  # Note: this is strictly positive\n",
      "c:\\Users\\bened\\AppData\\Local\\Programs\\Python\\Python38\\lib\\site-packages\\ydata_quality\\utils\\correlations.py:73: RuntimeWarning: invalid value encountered in double_scalars\n",
      "  return np.sqrt(phi_sq_hat / np.min([k_hat - 1, r_hat - 1]))  # Note: this is strictly positive\n",
      "c:\\Users\\bened\\AppData\\Local\\Programs\\Python\\Python38\\lib\\site-packages\\ydata_quality\\utils\\correlations.py:73: RuntimeWarning: invalid value encountered in double_scalars\n",
      "  return np.sqrt(phi_sq_hat / np.min([k_hat - 1, r_hat - 1]))  # Note: this is strictly positive\n",
      "c:\\Users\\bened\\AppData\\Local\\Programs\\Python\\Python38\\lib\\site-packages\\ydata_quality\\utils\\correlations.py:73: RuntimeWarning: invalid value encountered in double_scalars\n",
      "  return np.sqrt(phi_sq_hat / np.min([k_hat - 1, r_hat - 1]))  # Note: this is strictly positive\n",
      "c:\\Users\\bened\\AppData\\Local\\Programs\\Python\\Python38\\lib\\site-packages\\ydata_quality\\utils\\correlations.py:73: RuntimeWarning: invalid value encountered in double_scalars\n",
      "  return np.sqrt(phi_sq_hat / np.min([k_hat - 1, r_hat - 1]))  # Note: this is strictly positive\n",
      "c:\\Users\\bened\\AppData\\Local\\Programs\\Python\\Python38\\lib\\site-packages\\ydata_quality\\utils\\correlations.py:73: RuntimeWarning: invalid value encountered in double_scalars\n",
      "  return np.sqrt(phi_sq_hat / np.min([k_hat - 1, r_hat - 1]))  # Note: this is strictly positive\n",
      "c:\\Users\\bened\\AppData\\Local\\Programs\\Python\\Python38\\lib\\site-packages\\ydata_quality\\utils\\correlations.py:73: RuntimeWarning: invalid value encountered in double_scalars\n",
      "  return np.sqrt(phi_sq_hat / np.min([k_hat - 1, r_hat - 1]))  # Note: this is strictly positive\n",
      "c:\\Users\\bened\\AppData\\Local\\Programs\\Python\\Python38\\lib\\site-packages\\ydata_quality\\utils\\correlations.py:73: RuntimeWarning: invalid value encountered in double_scalars\n",
      "  return np.sqrt(phi_sq_hat / np.min([k_hat - 1, r_hat - 1]))  # Note: this is strictly positive\n",
      "c:\\Users\\bened\\AppData\\Local\\Programs\\Python\\Python38\\lib\\site-packages\\ydata_quality\\utils\\correlations.py:73: RuntimeWarning: invalid value encountered in double_scalars\n",
      "  return np.sqrt(phi_sq_hat / np.min([k_hat - 1, r_hat - 1]))  # Note: this is strictly positive\n",
      "c:\\Users\\bened\\AppData\\Local\\Programs\\Python\\Python38\\lib\\site-packages\\ydata_quality\\utils\\correlations.py:73: RuntimeWarning: invalid value encountered in double_scalars\n",
      "  return np.sqrt(phi_sq_hat / np.min([k_hat - 1, r_hat - 1]))  # Note: this is strictly positive\n",
      "c:\\Users\\bened\\AppData\\Local\\Programs\\Python\\Python38\\lib\\site-packages\\ydata_quality\\utils\\correlations.py:73: RuntimeWarning: invalid value encountered in double_scalars\n",
      "  return np.sqrt(phi_sq_hat / np.min([k_hat - 1, r_hat - 1]))  # Note: this is strictly positive\n",
      "c:\\Users\\bened\\AppData\\Local\\Programs\\Python\\Python38\\lib\\site-packages\\ydata_quality\\utils\\correlations.py:73: RuntimeWarning: invalid value encountered in double_scalars\n",
      "  return np.sqrt(phi_sq_hat / np.min([k_hat - 1, r_hat - 1]))  # Note: this is strictly positive\n",
      "c:\\Users\\bened\\AppData\\Local\\Programs\\Python\\Python38\\lib\\site-packages\\ydata_quality\\utils\\correlations.py:73: RuntimeWarning: invalid value encountered in double_scalars\n",
      "  return np.sqrt(phi_sq_hat / np.min([k_hat - 1, r_hat - 1]))  # Note: this is strictly positive\n",
      "c:\\Users\\bened\\AppData\\Local\\Programs\\Python\\Python38\\lib\\site-packages\\ydata_quality\\utils\\correlations.py:73: RuntimeWarning: invalid value encountered in double_scalars\n",
      "  return np.sqrt(phi_sq_hat / np.min([k_hat - 1, r_hat - 1]))  # Note: this is strictly positive\n",
      "c:\\Users\\bened\\AppData\\Local\\Programs\\Python\\Python38\\lib\\site-packages\\ydata_quality\\utils\\correlations.py:73: RuntimeWarning: invalid value encountered in double_scalars\n",
      "  return np.sqrt(phi_sq_hat / np.min([k_hat - 1, r_hat - 1]))  # Note: this is strictly positive\n",
      "c:\\Users\\bened\\AppData\\Local\\Programs\\Python\\Python38\\lib\\site-packages\\ydata_quality\\utils\\correlations.py:73: RuntimeWarning: invalid value encountered in double_scalars\n",
      "  return np.sqrt(phi_sq_hat / np.min([k_hat - 1, r_hat - 1]))  # Note: this is strictly positive\n",
      "c:\\Users\\bened\\AppData\\Local\\Programs\\Python\\Python38\\lib\\site-packages\\ydata_quality\\utils\\correlations.py:73: RuntimeWarning: invalid value encountered in double_scalars\n",
      "  return np.sqrt(phi_sq_hat / np.min([k_hat - 1, r_hat - 1]))  # Note: this is strictly positive\n",
      "c:\\Users\\bened\\AppData\\Local\\Programs\\Python\\Python38\\lib\\site-packages\\ydata_quality\\utils\\correlations.py:73: RuntimeWarning: invalid value encountered in double_scalars\n",
      "  return np.sqrt(phi_sq_hat / np.min([k_hat - 1, r_hat - 1]))  # Note: this is strictly positive\n",
      "c:\\Users\\bened\\AppData\\Local\\Programs\\Python\\Python38\\lib\\site-packages\\ydata_quality\\utils\\correlations.py:73: RuntimeWarning: invalid value encountered in double_scalars\n",
      "  return np.sqrt(phi_sq_hat / np.min([k_hat - 1, r_hat - 1]))  # Note: this is strictly positive\n",
      "c:\\Users\\bened\\AppData\\Local\\Programs\\Python\\Python38\\lib\\site-packages\\ydata_quality\\utils\\correlations.py:73: RuntimeWarning: invalid value encountered in double_scalars\n",
      "  return np.sqrt(phi_sq_hat / np.min([k_hat - 1, r_hat - 1]))  # Note: this is strictly positive\n",
      "c:\\Users\\bened\\AppData\\Local\\Programs\\Python\\Python38\\lib\\site-packages\\ydata_quality\\utils\\correlations.py:73: RuntimeWarning: invalid value encountered in double_scalars\n",
      "  return np.sqrt(phi_sq_hat / np.min([k_hat - 1, r_hat - 1]))  # Note: this is strictly positive\n",
      "c:\\Users\\bened\\AppData\\Local\\Programs\\Python\\Python38\\lib\\site-packages\\ydata_quality\\utils\\correlations.py:73: RuntimeWarning: invalid value encountered in double_scalars\n",
      "  return np.sqrt(phi_sq_hat / np.min([k_hat - 1, r_hat - 1]))  # Note: this is strictly positive\n",
      "c:\\Users\\bened\\AppData\\Local\\Programs\\Python\\Python38\\lib\\site-packages\\ydata_quality\\utils\\correlations.py:73: RuntimeWarning: invalid value encountered in double_scalars\n",
      "  return np.sqrt(phi_sq_hat / np.min([k_hat - 1, r_hat - 1]))  # Note: this is strictly positive\n",
      "c:\\Users\\bened\\AppData\\Local\\Programs\\Python\\Python38\\lib\\site-packages\\ydata_quality\\utils\\correlations.py:73: RuntimeWarning: invalid value encountered in double_scalars\n",
      "  return np.sqrt(phi_sq_hat / np.min([k_hat - 1, r_hat - 1]))  # Note: this is strictly positive\n",
      "c:\\Users\\bened\\AppData\\Local\\Programs\\Python\\Python38\\lib\\site-packages\\ydata_quality\\utils\\correlations.py:73: RuntimeWarning: invalid value encountered in double_scalars\n",
      "  return np.sqrt(phi_sq_hat / np.min([k_hat - 1, r_hat - 1]))  # Note: this is strictly positive\n",
      "c:\\Users\\bened\\AppData\\Local\\Programs\\Python\\Python38\\lib\\site-packages\\ydata_quality\\utils\\correlations.py:73: RuntimeWarning: invalid value encountered in double_scalars\n",
      "  return np.sqrt(phi_sq_hat / np.min([k_hat - 1, r_hat - 1]))  # Note: this is strictly positive\n",
      "c:\\Users\\bened\\AppData\\Local\\Programs\\Python\\Python38\\lib\\site-packages\\ydata_quality\\utils\\correlations.py:73: RuntimeWarning: invalid value encountered in double_scalars\n",
      "  return np.sqrt(phi_sq_hat / np.min([k_hat - 1, r_hat - 1]))  # Note: this is strictly positive\n",
      "c:\\Users\\bened\\AppData\\Local\\Programs\\Python\\Python38\\lib\\site-packages\\ydata_quality\\utils\\correlations.py:73: RuntimeWarning: invalid value encountered in double_scalars\n",
      "  return np.sqrt(phi_sq_hat / np.min([k_hat - 1, r_hat - 1]))  # Note: this is strictly positive\n",
      "c:\\Users\\bened\\AppData\\Local\\Programs\\Python\\Python38\\lib\\site-packages\\ydata_quality\\utils\\correlations.py:73: RuntimeWarning: invalid value encountered in double_scalars\n",
      "  return np.sqrt(phi_sq_hat / np.min([k_hat - 1, r_hat - 1]))  # Note: this is strictly positive\n",
      "c:\\Users\\bened\\AppData\\Local\\Programs\\Python\\Python38\\lib\\site-packages\\ydata_quality\\utils\\correlations.py:73: RuntimeWarning: invalid value encountered in double_scalars\n",
      "  return np.sqrt(phi_sq_hat / np.min([k_hat - 1, r_hat - 1]))  # Note: this is strictly positive\n",
      "c:\\Users\\bened\\AppData\\Local\\Programs\\Python\\Python38\\lib\\site-packages\\ydata_quality\\utils\\correlations.py:73: RuntimeWarning: invalid value encountered in double_scalars\n",
      "  return np.sqrt(phi_sq_hat / np.min([k_hat - 1, r_hat - 1]))  # Note: this is strictly positive\n",
      "c:\\Users\\bened\\AppData\\Local\\Programs\\Python\\Python38\\lib\\site-packages\\ydata_quality\\utils\\correlations.py:73: RuntimeWarning: invalid value encountered in double_scalars\n",
      "  return np.sqrt(phi_sq_hat / np.min([k_hat - 1, r_hat - 1]))  # Note: this is strictly positive\n",
      "c:\\Users\\bened\\AppData\\Local\\Programs\\Python\\Python38\\lib\\site-packages\\ydata_quality\\utils\\correlations.py:73: RuntimeWarning: invalid value encountered in double_scalars\n",
      "  return np.sqrt(phi_sq_hat / np.min([k_hat - 1, r_hat - 1]))  # Note: this is strictly positive\n",
      "c:\\Users\\bened\\AppData\\Local\\Programs\\Python\\Python38\\lib\\site-packages\\ydata_quality\\utils\\correlations.py:73: RuntimeWarning: invalid value encountered in double_scalars\n",
      "  return np.sqrt(phi_sq_hat / np.min([k_hat - 1, r_hat - 1]))  # Note: this is strictly positive\n",
      "c:\\Users\\bened\\AppData\\Local\\Programs\\Python\\Python38\\lib\\site-packages\\ydata_quality\\utils\\correlations.py:73: RuntimeWarning: invalid value encountered in double_scalars\n",
      "  return np.sqrt(phi_sq_hat / np.min([k_hat - 1, r_hat - 1]))  # Note: this is strictly positive\n",
      "c:\\Users\\bened\\AppData\\Local\\Programs\\Python\\Python38\\lib\\site-packages\\ydata_quality\\utils\\correlations.py:73: RuntimeWarning: invalid value encountered in double_scalars\n",
      "  return np.sqrt(phi_sq_hat / np.min([k_hat - 1, r_hat - 1]))  # Note: this is strictly positive\n",
      "c:\\Users\\bened\\AppData\\Local\\Programs\\Python\\Python38\\lib\\site-packages\\ydata_quality\\utils\\correlations.py:73: RuntimeWarning: invalid value encountered in double_scalars\n",
      "  return np.sqrt(phi_sq_hat / np.min([k_hat - 1, r_hat - 1]))  # Note: this is strictly positive\n",
      "c:\\Users\\bened\\AppData\\Local\\Programs\\Python\\Python38\\lib\\site-packages\\ydata_quality\\utils\\correlations.py:73: RuntimeWarning: invalid value encountered in double_scalars\n",
      "  return np.sqrt(phi_sq_hat / np.min([k_hat - 1, r_hat - 1]))  # Note: this is strictly positive\n",
      "c:\\Users\\bened\\AppData\\Local\\Programs\\Python\\Python38\\lib\\site-packages\\ydata_quality\\utils\\correlations.py:73: RuntimeWarning: invalid value encountered in double_scalars\n",
      "  return np.sqrt(phi_sq_hat / np.min([k_hat - 1, r_hat - 1]))  # Note: this is strictly positive\n",
      "c:\\Users\\bened\\AppData\\Local\\Programs\\Python\\Python38\\lib\\site-packages\\ydata_quality\\utils\\correlations.py:73: RuntimeWarning: invalid value encountered in double_scalars\n",
      "  return np.sqrt(phi_sq_hat / np.min([k_hat - 1, r_hat - 1]))  # Note: this is strictly positive\n",
      "c:\\Users\\bened\\AppData\\Local\\Programs\\Python\\Python38\\lib\\site-packages\\ydata_quality\\utils\\correlations.py:73: RuntimeWarning: invalid value encountered in double_scalars\n",
      "  return np.sqrt(phi_sq_hat / np.min([k_hat - 1, r_hat - 1]))  # Note: this is strictly positive\n",
      "c:\\Users\\bened\\AppData\\Local\\Programs\\Python\\Python38\\lib\\site-packages\\ydata_quality\\utils\\correlations.py:73: RuntimeWarning: invalid value encountered in double_scalars\n",
      "  return np.sqrt(phi_sq_hat / np.min([k_hat - 1, r_hat - 1]))  # Note: this is strictly positive\n",
      "c:\\Users\\bened\\AppData\\Local\\Programs\\Python\\Python38\\lib\\site-packages\\ydata_quality\\utils\\correlations.py:73: RuntimeWarning: invalid value encountered in double_scalars\n",
      "  return np.sqrt(phi_sq_hat / np.min([k_hat - 1, r_hat - 1]))  # Note: this is strictly positive\n",
      "c:\\Users\\bened\\AppData\\Local\\Programs\\Python\\Python38\\lib\\site-packages\\ydata_quality\\utils\\correlations.py:73: RuntimeWarning: invalid value encountered in double_scalars\n",
      "  return np.sqrt(phi_sq_hat / np.min([k_hat - 1, r_hat - 1]))  # Note: this is strictly positive\n",
      "c:\\Users\\bened\\AppData\\Local\\Programs\\Python\\Python38\\lib\\site-packages\\ydata_quality\\utils\\correlations.py:73: RuntimeWarning: invalid value encountered in double_scalars\n",
      "  return np.sqrt(phi_sq_hat / np.min([k_hat - 1, r_hat - 1]))  # Note: this is strictly positive\n",
      "c:\\Users\\bened\\AppData\\Local\\Programs\\Python\\Python38\\lib\\site-packages\\ydata_quality\\utils\\correlations.py:73: RuntimeWarning: invalid value encountered in double_scalars\n",
      "  return np.sqrt(phi_sq_hat / np.min([k_hat - 1, r_hat - 1]))  # Note: this is strictly positive\n",
      "c:\\Users\\bened\\AppData\\Local\\Programs\\Python\\Python38\\lib\\site-packages\\ydata_quality\\utils\\correlations.py:73: RuntimeWarning: invalid value encountered in double_scalars\n",
      "  return np.sqrt(phi_sq_hat / np.min([k_hat - 1, r_hat - 1]))  # Note: this is strictly positive\n",
      "c:\\Users\\bened\\AppData\\Local\\Programs\\Python\\Python38\\lib\\site-packages\\ydata_quality\\utils\\correlations.py:73: RuntimeWarning: invalid value encountered in double_scalars\n",
      "  return np.sqrt(phi_sq_hat / np.min([k_hat - 1, r_hat - 1]))  # Note: this is strictly positive\n",
      "c:\\Users\\bened\\AppData\\Local\\Programs\\Python\\Python38\\lib\\site-packages\\ydata_quality\\utils\\correlations.py:73: RuntimeWarning: invalid value encountered in double_scalars\n",
      "  return np.sqrt(phi_sq_hat / np.min([k_hat - 1, r_hat - 1]))  # Note: this is strictly positive\n",
      "c:\\Users\\bened\\AppData\\Local\\Programs\\Python\\Python38\\lib\\site-packages\\ydata_quality\\utils\\correlations.py:73: RuntimeWarning: invalid value encountered in double_scalars\n",
      "  return np.sqrt(phi_sq_hat / np.min([k_hat - 1, r_hat - 1]))  # Note: this is strictly positive\n",
      "c:\\Users\\bened\\AppData\\Local\\Programs\\Python\\Python38\\lib\\site-packages\\ydata_quality\\utils\\correlations.py:73: RuntimeWarning: invalid value encountered in double_scalars\n",
      "  return np.sqrt(phi_sq_hat / np.min([k_hat - 1, r_hat - 1]))  # Note: this is strictly positive\n",
      "c:\\Users\\bened\\AppData\\Local\\Programs\\Python\\Python38\\lib\\site-packages\\ydata_quality\\utils\\correlations.py:73: RuntimeWarning: invalid value encountered in double_scalars\n",
      "  return np.sqrt(phi_sq_hat / np.min([k_hat - 1, r_hat - 1]))  # Note: this is strictly positive\n",
      "c:\\Users\\bened\\AppData\\Local\\Programs\\Python\\Python38\\lib\\site-packages\\ydata_quality\\utils\\correlations.py:73: RuntimeWarning: invalid value encountered in double_scalars\n",
      "  return np.sqrt(phi_sq_hat / np.min([k_hat - 1, r_hat - 1]))  # Note: this is strictly positive\n",
      "c:\\Users\\bened\\AppData\\Local\\Programs\\Python\\Python38\\lib\\site-packages\\ydata_quality\\utils\\correlations.py:73: RuntimeWarning: invalid value encountered in double_scalars\n",
      "  return np.sqrt(phi_sq_hat / np.min([k_hat - 1, r_hat - 1]))  # Note: this is strictly positive\n",
      "c:\\Users\\bened\\AppData\\Local\\Programs\\Python\\Python38\\lib\\site-packages\\ydata_quality\\utils\\correlations.py:73: RuntimeWarning: invalid value encountered in double_scalars\n",
      "  return np.sqrt(phi_sq_hat / np.min([k_hat - 1, r_hat - 1]))  # Note: this is strictly positive\n",
      "c:\\Users\\bened\\AppData\\Local\\Programs\\Python\\Python38\\lib\\site-packages\\ydata_quality\\utils\\correlations.py:73: RuntimeWarning: invalid value encountered in double_scalars\n",
      "  return np.sqrt(phi_sq_hat / np.min([k_hat - 1, r_hat - 1]))  # Note: this is strictly positive\n",
      "c:\\Users\\bened\\AppData\\Local\\Programs\\Python\\Python38\\lib\\site-packages\\ydata_quality\\utils\\correlations.py:73: RuntimeWarning: invalid value encountered in double_scalars\n",
      "  return np.sqrt(phi_sq_hat / np.min([k_hat - 1, r_hat - 1]))  # Note: this is strictly positive\n",
      "c:\\Users\\bened\\AppData\\Local\\Programs\\Python\\Python38\\lib\\site-packages\\ydata_quality\\utils\\correlations.py:73: RuntimeWarning: invalid value encountered in double_scalars\n",
      "  return np.sqrt(phi_sq_hat / np.min([k_hat - 1, r_hat - 1]))  # Note: this is strictly positive\n",
      "c:\\Users\\bened\\AppData\\Local\\Programs\\Python\\Python38\\lib\\site-packages\\ydata_quality\\utils\\correlations.py:73: RuntimeWarning: invalid value encountered in double_scalars\n",
      "  return np.sqrt(phi_sq_hat / np.min([k_hat - 1, r_hat - 1]))  # Note: this is strictly positive\n",
      "c:\\Users\\bened\\AppData\\Local\\Programs\\Python\\Python38\\lib\\site-packages\\ydata_quality\\utils\\correlations.py:73: RuntimeWarning: invalid value encountered in double_scalars\n",
      "  return np.sqrt(phi_sq_hat / np.min([k_hat - 1, r_hat - 1]))  # Note: this is strictly positive\n",
      "c:\\Users\\bened\\AppData\\Local\\Programs\\Python\\Python38\\lib\\site-packages\\ydata_quality\\utils\\correlations.py:73: RuntimeWarning: invalid value encountered in double_scalars\n",
      "  return np.sqrt(phi_sq_hat / np.min([k_hat - 1, r_hat - 1]))  # Note: this is strictly positive\n",
      "c:\\Users\\bened\\AppData\\Local\\Programs\\Python\\Python38\\lib\\site-packages\\ydata_quality\\utils\\correlations.py:73: RuntimeWarning: invalid value encountered in double_scalars\n",
      "  return np.sqrt(phi_sq_hat / np.min([k_hat - 1, r_hat - 1]))  # Note: this is strictly positive\n",
      "c:\\Users\\bened\\AppData\\Local\\Programs\\Python\\Python38\\lib\\site-packages\\ydata_quality\\utils\\correlations.py:73: RuntimeWarning: invalid value encountered in double_scalars\n",
      "  return np.sqrt(phi_sq_hat / np.min([k_hat - 1, r_hat - 1]))  # Note: this is strictly positive\n",
      "c:\\Users\\bened\\AppData\\Local\\Programs\\Python\\Python38\\lib\\site-packages\\ydata_quality\\utils\\correlations.py:73: RuntimeWarning: invalid value encountered in double_scalars\n",
      "  return np.sqrt(phi_sq_hat / np.min([k_hat - 1, r_hat - 1]))  # Note: this is strictly positive\n",
      "c:\\Users\\bened\\AppData\\Local\\Programs\\Python\\Python38\\lib\\site-packages\\ydata_quality\\utils\\correlations.py:73: RuntimeWarning: invalid value encountered in double_scalars\n",
      "  return np.sqrt(phi_sq_hat / np.min([k_hat - 1, r_hat - 1]))  # Note: this is strictly positive\n",
      "c:\\Users\\bened\\AppData\\Local\\Programs\\Python\\Python38\\lib\\site-packages\\ydata_quality\\utils\\correlations.py:73: RuntimeWarning: invalid value encountered in double_scalars\n",
      "  return np.sqrt(phi_sq_hat / np.min([k_hat - 1, r_hat - 1]))  # Note: this is strictly positive\n",
      "c:\\Users\\bened\\AppData\\Local\\Programs\\Python\\Python38\\lib\\site-packages\\ydata_quality\\utils\\correlations.py:73: RuntimeWarning: invalid value encountered in double_scalars\n",
      "  return np.sqrt(phi_sq_hat / np.min([k_hat - 1, r_hat - 1]))  # Note: this is strictly positive\n",
      "c:\\Users\\bened\\AppData\\Local\\Programs\\Python\\Python38\\lib\\site-packages\\ydata_quality\\utils\\correlations.py:73: RuntimeWarning: invalid value encountered in double_scalars\n",
      "  return np.sqrt(phi_sq_hat / np.min([k_hat - 1, r_hat - 1]))  # Note: this is strictly positive\n",
      "c:\\Users\\bened\\AppData\\Local\\Programs\\Python\\Python38\\lib\\site-packages\\ydata_quality\\utils\\correlations.py:73: RuntimeWarning: invalid value encountered in double_scalars\n",
      "  return np.sqrt(phi_sq_hat / np.min([k_hat - 1, r_hat - 1]))  # Note: this is strictly positive\n",
      "c:\\Users\\bened\\AppData\\Local\\Programs\\Python\\Python38\\lib\\site-packages\\ydata_quality\\utils\\correlations.py:73: RuntimeWarning: invalid value encountered in double_scalars\n",
      "  return np.sqrt(phi_sq_hat / np.min([k_hat - 1, r_hat - 1]))  # Note: this is strictly positive\n",
      "c:\\Users\\bened\\AppData\\Local\\Programs\\Python\\Python38\\lib\\site-packages\\ydata_quality\\utils\\correlations.py:73: RuntimeWarning: invalid value encountered in double_scalars\n",
      "  return np.sqrt(phi_sq_hat / np.min([k_hat - 1, r_hat - 1]))  # Note: this is strictly positive\n",
      "c:\\Users\\bened\\AppData\\Local\\Programs\\Python\\Python38\\lib\\site-packages\\ydata_quality\\utils\\correlations.py:73: RuntimeWarning: invalid value encountered in double_scalars\n",
      "  return np.sqrt(phi_sq_hat / np.min([k_hat - 1, r_hat - 1]))  # Note: this is strictly positive\n",
      "c:\\Users\\bened\\AppData\\Local\\Programs\\Python\\Python38\\lib\\site-packages\\ydata_quality\\utils\\correlations.py:73: RuntimeWarning: invalid value encountered in double_scalars\n",
      "  return np.sqrt(phi_sq_hat / np.min([k_hat - 1, r_hat - 1]))  # Note: this is strictly positive\n",
      "c:\\Users\\bened\\AppData\\Local\\Programs\\Python\\Python38\\lib\\site-packages\\ydata_quality\\utils\\correlations.py:73: RuntimeWarning: invalid value encountered in double_scalars\n",
      "  return np.sqrt(phi_sq_hat / np.min([k_hat - 1, r_hat - 1]))  # Note: this is strictly positive\n",
      "c:\\Users\\bened\\AppData\\Local\\Programs\\Python\\Python38\\lib\\site-packages\\ydata_quality\\utils\\correlations.py:73: RuntimeWarning: invalid value encountered in double_scalars\n",
      "  return np.sqrt(phi_sq_hat / np.min([k_hat - 1, r_hat - 1]))  # Note: this is strictly positive\n",
      "c:\\Users\\bened\\AppData\\Local\\Programs\\Python\\Python38\\lib\\site-packages\\ydata_quality\\utils\\correlations.py:73: RuntimeWarning: invalid value encountered in double_scalars\n",
      "  return np.sqrt(phi_sq_hat / np.min([k_hat - 1, r_hat - 1]))  # Note: this is strictly positive\n",
      "c:\\Users\\bened\\AppData\\Local\\Programs\\Python\\Python38\\lib\\site-packages\\ydata_quality\\utils\\correlations.py:73: RuntimeWarning: invalid value encountered in double_scalars\n",
      "  return np.sqrt(phi_sq_hat / np.min([k_hat - 1, r_hat - 1]))  # Note: this is strictly positive\n",
      "c:\\Users\\bened\\AppData\\Local\\Programs\\Python\\Python38\\lib\\site-packages\\ydata_quality\\utils\\correlations.py:73: RuntimeWarning: invalid value encountered in double_scalars\n",
      "  return np.sqrt(phi_sq_hat / np.min([k_hat - 1, r_hat - 1]))  # Note: this is strictly positive\n",
      "c:\\Users\\bened\\AppData\\Local\\Programs\\Python\\Python38\\lib\\site-packages\\ydata_quality\\utils\\correlations.py:73: RuntimeWarning: invalid value encountered in double_scalars\n",
      "  return np.sqrt(phi_sq_hat / np.min([k_hat - 1, r_hat - 1]))  # Note: this is strictly positive\n",
      "c:\\Users\\bened\\AppData\\Local\\Programs\\Python\\Python38\\lib\\site-packages\\ydata_quality\\utils\\correlations.py:73: RuntimeWarning: invalid value encountered in double_scalars\n",
      "  return np.sqrt(phi_sq_hat / np.min([k_hat - 1, r_hat - 1]))  # Note: this is strictly positive\n",
      "c:\\Users\\bened\\AppData\\Local\\Programs\\Python\\Python38\\lib\\site-packages\\ydata_quality\\utils\\correlations.py:73: RuntimeWarning: invalid value encountered in double_scalars\n",
      "  return np.sqrt(phi_sq_hat / np.min([k_hat - 1, r_hat - 1]))  # Note: this is strictly positive\n",
      "c:\\Users\\bened\\AppData\\Local\\Programs\\Python\\Python38\\lib\\site-packages\\ydata_quality\\utils\\correlations.py:73: RuntimeWarning: invalid value encountered in double_scalars\n",
      "  return np.sqrt(phi_sq_hat / np.min([k_hat - 1, r_hat - 1]))  # Note: this is strictly positive\n",
      "c:\\Users\\bened\\AppData\\Local\\Programs\\Python\\Python38\\lib\\site-packages\\ydata_quality\\utils\\correlations.py:73: RuntimeWarning: invalid value encountered in double_scalars\n",
      "  return np.sqrt(phi_sq_hat / np.min([k_hat - 1, r_hat - 1]))  # Note: this is strictly positive\n",
      "c:\\Users\\bened\\AppData\\Local\\Programs\\Python\\Python38\\lib\\site-packages\\ydata_quality\\utils\\correlations.py:73: RuntimeWarning: invalid value encountered in double_scalars\n",
      "  return np.sqrt(phi_sq_hat / np.min([k_hat - 1, r_hat - 1]))  # Note: this is strictly positive\n",
      "c:\\Users\\bened\\AppData\\Local\\Programs\\Python\\Python38\\lib\\site-packages\\ydata_quality\\utils\\correlations.py:73: RuntimeWarning: invalid value encountered in double_scalars\n",
      "  return np.sqrt(phi_sq_hat / np.min([k_hat - 1, r_hat - 1]))  # Note: this is strictly positive\n",
      "c:\\Users\\bened\\AppData\\Local\\Programs\\Python\\Python38\\lib\\site-packages\\ydata_quality\\utils\\correlations.py:73: RuntimeWarning: invalid value encountered in double_scalars\n",
      "  return np.sqrt(phi_sq_hat / np.min([k_hat - 1, r_hat - 1]))  # Note: this is strictly positive\n",
      "c:\\Users\\bened\\AppData\\Local\\Programs\\Python\\Python38\\lib\\site-packages\\ydata_quality\\utils\\correlations.py:73: RuntimeWarning: invalid value encountered in double_scalars\n",
      "  return np.sqrt(phi_sq_hat / np.min([k_hat - 1, r_hat - 1]))  # Note: this is strictly positive\n",
      "c:\\Users\\bened\\AppData\\Local\\Programs\\Python\\Python38\\lib\\site-packages\\ydata_quality\\utils\\correlations.py:73: RuntimeWarning: invalid value encountered in double_scalars\n",
      "  return np.sqrt(phi_sq_hat / np.min([k_hat - 1, r_hat - 1]))  # Note: this is strictly positive\n",
      "c:\\Users\\bened\\AppData\\Local\\Programs\\Python\\Python38\\lib\\site-packages\\ydata_quality\\utils\\correlations.py:73: RuntimeWarning: invalid value encountered in double_scalars\n",
      "  return np.sqrt(phi_sq_hat / np.min([k_hat - 1, r_hat - 1]))  # Note: this is strictly positive\n",
      "c:\\Users\\bened\\AppData\\Local\\Programs\\Python\\Python38\\lib\\site-packages\\ydata_quality\\utils\\correlations.py:73: RuntimeWarning: invalid value encountered in double_scalars\n",
      "  return np.sqrt(phi_sq_hat / np.min([k_hat - 1, r_hat - 1]))  # Note: this is strictly positive\n",
      "c:\\Users\\bened\\AppData\\Local\\Programs\\Python\\Python38\\lib\\site-packages\\ydata_quality\\utils\\correlations.py:73: RuntimeWarning: invalid value encountered in double_scalars\n",
      "  return np.sqrt(phi_sq_hat / np.min([k_hat - 1, r_hat - 1]))  # Note: this is strictly positive\n",
      "c:\\Users\\bened\\AppData\\Local\\Programs\\Python\\Python38\\lib\\site-packages\\ydata_quality\\utils\\correlations.py:73: RuntimeWarning: invalid value encountered in double_scalars\n",
      "  return np.sqrt(phi_sq_hat / np.min([k_hat - 1, r_hat - 1]))  # Note: this is strictly positive\n",
      "c:\\Users\\bened\\AppData\\Local\\Programs\\Python\\Python38\\lib\\site-packages\\ydata_quality\\utils\\correlations.py:73: RuntimeWarning: invalid value encountered in double_scalars\n",
      "  return np.sqrt(phi_sq_hat / np.min([k_hat - 1, r_hat - 1]))  # Note: this is strictly positive\n",
      "c:\\Users\\bened\\AppData\\Local\\Programs\\Python\\Python38\\lib\\site-packages\\ydata_quality\\utils\\correlations.py:73: RuntimeWarning: invalid value encountered in double_scalars\n",
      "  return np.sqrt(phi_sq_hat / np.min([k_hat - 1, r_hat - 1]))  # Note: this is strictly positive\n",
      "c:\\Users\\bened\\AppData\\Local\\Programs\\Python\\Python38\\lib\\site-packages\\ydata_quality\\utils\\correlations.py:73: RuntimeWarning: invalid value encountered in double_scalars\n",
      "  return np.sqrt(phi_sq_hat / np.min([k_hat - 1, r_hat - 1]))  # Note: this is strictly positive\n",
      "c:\\Users\\bened\\AppData\\Local\\Programs\\Python\\Python38\\lib\\site-packages\\ydata_quality\\utils\\correlations.py:73: RuntimeWarning: invalid value encountered in double_scalars\n",
      "  return np.sqrt(phi_sq_hat / np.min([k_hat - 1, r_hat - 1]))  # Note: this is strictly positive\n",
      "c:\\Users\\bened\\AppData\\Local\\Programs\\Python\\Python38\\lib\\site-packages\\ydata_quality\\utils\\correlations.py:73: RuntimeWarning: invalid value encountered in double_scalars\n",
      "  return np.sqrt(phi_sq_hat / np.min([k_hat - 1, r_hat - 1]))  # Note: this is strictly positive\n",
      "c:\\Users\\bened\\AppData\\Local\\Programs\\Python\\Python38\\lib\\site-packages\\ydata_quality\\utils\\correlations.py:73: RuntimeWarning: invalid value encountered in double_scalars\n",
      "  return np.sqrt(phi_sq_hat / np.min([k_hat - 1, r_hat - 1]))  # Note: this is strictly positive\n",
      "c:\\Users\\bened\\AppData\\Local\\Programs\\Python\\Python38\\lib\\site-packages\\ydata_quality\\utils\\correlations.py:73: RuntimeWarning: invalid value encountered in double_scalars\n",
      "  return np.sqrt(phi_sq_hat / np.min([k_hat - 1, r_hat - 1]))  # Note: this is strictly positive\n",
      "c:\\Users\\bened\\AppData\\Local\\Programs\\Python\\Python38\\lib\\site-packages\\ydata_quality\\utils\\correlations.py:73: RuntimeWarning: invalid value encountered in double_scalars\n",
      "  return np.sqrt(phi_sq_hat / np.min([k_hat - 1, r_hat - 1]))  # Note: this is strictly positive\n",
      "c:\\Users\\bened\\AppData\\Local\\Programs\\Python\\Python38\\lib\\site-packages\\ydata_quality\\utils\\correlations.py:73: RuntimeWarning: invalid value encountered in double_scalars\n",
      "  return np.sqrt(phi_sq_hat / np.min([k_hat - 1, r_hat - 1]))  # Note: this is strictly positive\n",
      "c:\\Users\\bened\\AppData\\Local\\Programs\\Python\\Python38\\lib\\site-packages\\ydata_quality\\utils\\correlations.py:73: RuntimeWarning: invalid value encountered in double_scalars\n",
      "  return np.sqrt(phi_sq_hat / np.min([k_hat - 1, r_hat - 1]))  # Note: this is strictly positive\n",
      "c:\\Users\\bened\\AppData\\Local\\Programs\\Python\\Python38\\lib\\site-packages\\ydata_quality\\utils\\correlations.py:73: RuntimeWarning: invalid value encountered in double_scalars\n",
      "  return np.sqrt(phi_sq_hat / np.min([k_hat - 1, r_hat - 1]))  # Note: this is strictly positive\n",
      "c:\\Users\\bened\\AppData\\Local\\Programs\\Python\\Python38\\lib\\site-packages\\ydata_quality\\utils\\correlations.py:73: RuntimeWarning: invalid value encountered in double_scalars\n",
      "  return np.sqrt(phi_sq_hat / np.min([k_hat - 1, r_hat - 1]))  # Note: this is strictly positive\n",
      "c:\\Users\\bened\\AppData\\Local\\Programs\\Python\\Python38\\lib\\site-packages\\ydata_quality\\utils\\correlations.py:73: RuntimeWarning: invalid value encountered in double_scalars\n",
      "  return np.sqrt(phi_sq_hat / np.min([k_hat - 1, r_hat - 1]))  # Note: this is strictly positive\n",
      "c:\\Users\\bened\\AppData\\Local\\Programs\\Python\\Python38\\lib\\site-packages\\ydata_quality\\utils\\correlations.py:73: RuntimeWarning: invalid value encountered in double_scalars\n",
      "  return np.sqrt(phi_sq_hat / np.min([k_hat - 1, r_hat - 1]))  # Note: this is strictly positive\n",
      "c:\\Users\\bened\\AppData\\Local\\Programs\\Python\\Python38\\lib\\site-packages\\ydata_quality\\utils\\correlations.py:73: RuntimeWarning: invalid value encountered in double_scalars\n",
      "  return np.sqrt(phi_sq_hat / np.min([k_hat - 1, r_hat - 1]))  # Note: this is strictly positive\n",
      "c:\\Users\\bened\\AppData\\Local\\Programs\\Python\\Python38\\lib\\site-packages\\ydata_quality\\utils\\correlations.py:73: RuntimeWarning: invalid value encountered in double_scalars\n",
      "  return np.sqrt(phi_sq_hat / np.min([k_hat - 1, r_hat - 1]))  # Note: this is strictly positive\n",
      "c:\\Users\\bened\\AppData\\Local\\Programs\\Python\\Python38\\lib\\site-packages\\ydata_quality\\utils\\correlations.py:73: RuntimeWarning: invalid value encountered in double_scalars\n",
      "  return np.sqrt(phi_sq_hat / np.min([k_hat - 1, r_hat - 1]))  # Note: this is strictly positive\n",
      "c:\\Users\\bened\\AppData\\Local\\Programs\\Python\\Python38\\lib\\site-packages\\ydata_quality\\utils\\correlations.py:73: RuntimeWarning: invalid value encountered in double_scalars\n",
      "  return np.sqrt(phi_sq_hat / np.min([k_hat - 1, r_hat - 1]))  # Note: this is strictly positive\n",
      "c:\\Users\\bened\\AppData\\Local\\Programs\\Python\\Python38\\lib\\site-packages\\ydata_quality\\utils\\correlations.py:73: RuntimeWarning: invalid value encountered in double_scalars\n",
      "  return np.sqrt(phi_sq_hat / np.min([k_hat - 1, r_hat - 1]))  # Note: this is strictly positive\n",
      "c:\\Users\\bened\\AppData\\Local\\Programs\\Python\\Python38\\lib\\site-packages\\ydata_quality\\utils\\correlations.py:73: RuntimeWarning: invalid value encountered in double_scalars\n",
      "  return np.sqrt(phi_sq_hat / np.min([k_hat - 1, r_hat - 1]))  # Note: this is strictly positive\n",
      "c:\\Users\\bened\\AppData\\Local\\Programs\\Python\\Python38\\lib\\site-packages\\ydata_quality\\utils\\correlations.py:73: RuntimeWarning: invalid value encountered in double_scalars\n",
      "  return np.sqrt(phi_sq_hat / np.min([k_hat - 1, r_hat - 1]))  # Note: this is strictly positive\n",
      "c:\\Users\\bened\\AppData\\Local\\Programs\\Python\\Python38\\lib\\site-packages\\ydata_quality\\utils\\correlations.py:73: RuntimeWarning: invalid value encountered in double_scalars\n",
      "  return np.sqrt(phi_sq_hat / np.min([k_hat - 1, r_hat - 1]))  # Note: this is strictly positive\n",
      "c:\\Users\\bened\\AppData\\Local\\Programs\\Python\\Python38\\lib\\site-packages\\ydata_quality\\utils\\correlations.py:73: RuntimeWarning: invalid value encountered in double_scalars\n",
      "  return np.sqrt(phi_sq_hat / np.min([k_hat - 1, r_hat - 1]))  # Note: this is strictly positive\n",
      "c:\\Users\\bened\\AppData\\Local\\Programs\\Python\\Python38\\lib\\site-packages\\ydata_quality\\utils\\correlations.py:73: RuntimeWarning: invalid value encountered in double_scalars\n",
      "  return np.sqrt(phi_sq_hat / np.min([k_hat - 1, r_hat - 1]))  # Note: this is strictly positive\n",
      "c:\\Users\\bened\\AppData\\Local\\Programs\\Python\\Python38\\lib\\site-packages\\ydata_quality\\utils\\correlations.py:73: RuntimeWarning: invalid value encountered in double_scalars\n",
      "  return np.sqrt(phi_sq_hat / np.min([k_hat - 1, r_hat - 1]))  # Note: this is strictly positive\n",
      "c:\\Users\\bened\\AppData\\Local\\Programs\\Python\\Python38\\lib\\site-packages\\ydata_quality\\utils\\correlations.py:73: RuntimeWarning: invalid value encountered in double_scalars\n",
      "  return np.sqrt(phi_sq_hat / np.min([k_hat - 1, r_hat - 1]))  # Note: this is strictly positive\n",
      "c:\\Users\\bened\\AppData\\Local\\Programs\\Python\\Python38\\lib\\site-packages\\ydata_quality\\utils\\correlations.py:73: RuntimeWarning: invalid value encountered in double_scalars\n",
      "  return np.sqrt(phi_sq_hat / np.min([k_hat - 1, r_hat - 1]))  # Note: this is strictly positive\n",
      "c:\\Users\\bened\\AppData\\Local\\Programs\\Python\\Python38\\lib\\site-packages\\ydata_quality\\utils\\correlations.py:73: RuntimeWarning: invalid value encountered in double_scalars\n",
      "  return np.sqrt(phi_sq_hat / np.min([k_hat - 1, r_hat - 1]))  # Note: this is strictly positive\n",
      "c:\\Users\\bened\\AppData\\Local\\Programs\\Python\\Python38\\lib\\site-packages\\ydata_quality\\utils\\correlations.py:73: RuntimeWarning: invalid value encountered in double_scalars\n",
      "  return np.sqrt(phi_sq_hat / np.min([k_hat - 1, r_hat - 1]))  # Note: this is strictly positive\n",
      "c:\\Users\\bened\\AppData\\Local\\Programs\\Python\\Python38\\lib\\site-packages\\ydata_quality\\utils\\correlations.py:73: RuntimeWarning: invalid value encountered in double_scalars\n",
      "  return np.sqrt(phi_sq_hat / np.min([k_hat - 1, r_hat - 1]))  # Note: this is strictly positive\n",
      "c:\\Users\\bened\\AppData\\Local\\Programs\\Python\\Python38\\lib\\site-packages\\ydata_quality\\utils\\correlations.py:73: RuntimeWarning: invalid value encountered in double_scalars\n",
      "  return np.sqrt(phi_sq_hat / np.min([k_hat - 1, r_hat - 1]))  # Note: this is strictly positive\n",
      "c:\\Users\\bened\\AppData\\Local\\Programs\\Python\\Python38\\lib\\site-packages\\ydata_quality\\utils\\correlations.py:73: RuntimeWarning: invalid value encountered in double_scalars\n",
      "  return np.sqrt(phi_sq_hat / np.min([k_hat - 1, r_hat - 1]))  # Note: this is strictly positive\n",
      "c:\\Users\\bened\\AppData\\Local\\Programs\\Python\\Python38\\lib\\site-packages\\ydata_quality\\utils\\correlations.py:73: RuntimeWarning: invalid value encountered in double_scalars\n",
      "  return np.sqrt(phi_sq_hat / np.min([k_hat - 1, r_hat - 1]))  # Note: this is strictly positive\n",
      "c:\\Users\\bened\\AppData\\Local\\Programs\\Python\\Python38\\lib\\site-packages\\ydata_quality\\utils\\correlations.py:73: RuntimeWarning: invalid value encountered in double_scalars\n",
      "  return np.sqrt(phi_sq_hat / np.min([k_hat - 1, r_hat - 1]))  # Note: this is strictly positive\n"
     ]
    },
    {
     "ename": "LinAlgError",
     "evalue": "SVD did not converge",
     "output_type": "error",
     "traceback": [
      "\u001b[1;31m---------------------------------------------------------------------------\u001b[0m",
      "\u001b[1;31mLinAlgError\u001b[0m                               Traceback (most recent call last)",
      "Cell \u001b[1;32mIn[12], line 1\u001b[0m\n\u001b[1;32m----> 1\u001b[0m result \u001b[38;5;241m=\u001b[39m \u001b[43mdq\u001b[49m\u001b[38;5;241;43m.\u001b[39;49m\u001b[43mevaluate\u001b[49m\u001b[43m(\u001b[49m\u001b[43m)\u001b[49m\n",
      "File \u001b[1;32mc:\\Users\\bened\\AppData\\Local\\Programs\\Python\\Python38\\lib\\site-packages\\ydata_quality\\core\\data_quality.py:166\u001b[0m, in \u001b[0;36mDataQuality.evaluate\u001b[1;34m(self, summary)\u001b[0m\n\u001b[0;32m    160\u001b[0m \u001b[38;5;28;01mdef\u001b[39;00m \u001b[38;5;21mevaluate\u001b[39m(\u001b[38;5;28mself\u001b[39m, summary: \u001b[38;5;28mbool\u001b[39m \u001b[38;5;241m=\u001b[39m \u001b[38;5;28;01mTrue\u001b[39;00m) \u001b[38;5;241m-\u001b[39m\u001b[38;5;241m>\u001b[39m \u001b[38;5;28mdict\u001b[39m:\n\u001b[0;32m    161\u001b[0m \u001b[38;5;250m    \u001b[39m\u001b[38;5;124;03m\"\"\"Runs all the individual data quality checks and aggregates the results.\u001b[39;00m\n\u001b[0;32m    162\u001b[0m \n\u001b[0;32m    163\u001b[0m \u001b[38;5;124;03m    Arguments:\u001b[39;00m\n\u001b[0;32m    164\u001b[0m \u001b[38;5;124;03m        summary (bool): if True, prints a report containing all the warnings detected during the data quality analysis.\u001b[39;00m\n\u001b[0;32m    165\u001b[0m \u001b[38;5;124;03m    \"\"\"\u001b[39;00m\n\u001b[1;32m--> 166\u001b[0m     results \u001b[38;5;241m=\u001b[39m {\n\u001b[0;32m    167\u001b[0m         name: engine\u001b[38;5;241m.\u001b[39mevaluate(\u001b[38;5;241m*\u001b[39m\u001b[38;5;28mself\u001b[39m\u001b[38;5;241m.\u001b[39m_eval_args\u001b[38;5;241m.\u001b[39mget(name,[]), summary\u001b[38;5;241m=\u001b[39m\u001b[38;5;28;01mFalse\u001b[39;00m) \u001b[38;5;28;01mfor\u001b[39;00m name, engine \u001b[38;5;129;01min\u001b[39;00m \u001b[38;5;28mself\u001b[39m\u001b[38;5;241m.\u001b[39mengines\u001b[38;5;241m.\u001b[39mitems()\n\u001b[0;32m    168\u001b[0m     }\n\u001b[0;32m    169\u001b[0m     \u001b[38;5;28mself\u001b[39m\u001b[38;5;241m.\u001b[39m_store_warnings() \u001b[38;5;66;03m# fetch all warnings from the engines\u001b[39;00m\n\u001b[0;32m    170\u001b[0m     \u001b[38;5;28mself\u001b[39m\u001b[38;5;241m.\u001b[39m_clean_warnings()\n",
      "File \u001b[1;32mc:\\Users\\bened\\AppData\\Local\\Programs\\Python\\Python38\\lib\\site-packages\\ydata_quality\\core\\data_quality.py:167\u001b[0m, in \u001b[0;36m<dictcomp>\u001b[1;34m(.0)\u001b[0m\n\u001b[0;32m    160\u001b[0m \u001b[38;5;28;01mdef\u001b[39;00m \u001b[38;5;21mevaluate\u001b[39m(\u001b[38;5;28mself\u001b[39m, summary: \u001b[38;5;28mbool\u001b[39m \u001b[38;5;241m=\u001b[39m \u001b[38;5;28;01mTrue\u001b[39;00m) \u001b[38;5;241m-\u001b[39m\u001b[38;5;241m>\u001b[39m \u001b[38;5;28mdict\u001b[39m:\n\u001b[0;32m    161\u001b[0m \u001b[38;5;250m    \u001b[39m\u001b[38;5;124;03m\"\"\"Runs all the individual data quality checks and aggregates the results.\u001b[39;00m\n\u001b[0;32m    162\u001b[0m \n\u001b[0;32m    163\u001b[0m \u001b[38;5;124;03m    Arguments:\u001b[39;00m\n\u001b[0;32m    164\u001b[0m \u001b[38;5;124;03m        summary (bool): if True, prints a report containing all the warnings detected during the data quality analysis.\u001b[39;00m\n\u001b[0;32m    165\u001b[0m \u001b[38;5;124;03m    \"\"\"\u001b[39;00m\n\u001b[0;32m    166\u001b[0m     results \u001b[38;5;241m=\u001b[39m {\n\u001b[1;32m--> 167\u001b[0m         name: \u001b[43mengine\u001b[49m\u001b[38;5;241;43m.\u001b[39;49m\u001b[43mevaluate\u001b[49m\u001b[43m(\u001b[49m\u001b[38;5;241;43m*\u001b[39;49m\u001b[38;5;28;43mself\u001b[39;49m\u001b[38;5;241;43m.\u001b[39;49m\u001b[43m_eval_args\u001b[49m\u001b[38;5;241;43m.\u001b[39;49m\u001b[43mget\u001b[49m\u001b[43m(\u001b[49m\u001b[43mname\u001b[49m\u001b[43m,\u001b[49m\u001b[43m[\u001b[49m\u001b[43m]\u001b[49m\u001b[43m)\u001b[49m\u001b[43m,\u001b[49m\u001b[43m \u001b[49m\u001b[43msummary\u001b[49m\u001b[38;5;241;43m=\u001b[39;49m\u001b[38;5;28;43;01mFalse\u001b[39;49;00m\u001b[43m)\u001b[49m \u001b[38;5;28;01mfor\u001b[39;00m name, engine \u001b[38;5;129;01min\u001b[39;00m \u001b[38;5;28mself\u001b[39m\u001b[38;5;241m.\u001b[39mengines\u001b[38;5;241m.\u001b[39mitems()\n\u001b[0;32m    168\u001b[0m     }\n\u001b[0;32m    169\u001b[0m     \u001b[38;5;28mself\u001b[39m\u001b[38;5;241m.\u001b[39m_store_warnings() \u001b[38;5;66;03m# fetch all warnings from the engines\u001b[39;00m\n\u001b[0;32m    170\u001b[0m     \u001b[38;5;28mself\u001b[39m\u001b[38;5;241m.\u001b[39m_clean_warnings()\n",
      "File \u001b[1;32mc:\\Users\\bened\\AppData\\Local\\Programs\\Python\\Python38\\lib\\site-packages\\ydata_quality\\data_relations\\engine.py:85\u001b[0m, in \u001b[0;36mDataRelationsDetector.evaluate\u001b[1;34m(self, df, dtypes, label, corr_th, vif_th, p_th, plot, summary)\u001b[0m\n\u001b[0;32m     83\u001b[0m results \u001b[38;5;241m=\u001b[39m {}\n\u001b[0;32m     84\u001b[0m corr_mat, _ \u001b[38;5;241m=\u001b[39m correlation_matrix(df, \u001b[38;5;28mself\u001b[39m\u001b[38;5;241m.\u001b[39mdtypes, \u001b[38;5;28;01mTrue\u001b[39;00m)\n\u001b[1;32m---> 85\u001b[0m p_corr_mat \u001b[38;5;241m=\u001b[39m \u001b[43mpartial_correlation_matrix\u001b[49m\u001b[43m(\u001b[49m\u001b[43mcorr_mat\u001b[49m\u001b[43m)\u001b[49m\n\u001b[0;32m     86\u001b[0m results[\u001b[38;5;124m'\u001b[39m\u001b[38;5;124mCorrelations\u001b[39m\u001b[38;5;124m'\u001b[39m] \u001b[38;5;241m=\u001b[39m {\u001b[38;5;124m'\u001b[39m\u001b[38;5;124mCorrelation matrix\u001b[39m\u001b[38;5;124m'\u001b[39m: corr_mat, \u001b[38;5;124m'\u001b[39m\u001b[38;5;124mPartial correlation matrix\u001b[39m\u001b[38;5;124m'\u001b[39m: p_corr_mat}\n\u001b[0;32m     87\u001b[0m \u001b[38;5;28;01mif\u001b[39;00m plot:\n",
      "File \u001b[1;32mc:\\Users\\bened\\AppData\\Local\\Programs\\Python\\Python38\\lib\\site-packages\\ydata_quality\\utils\\correlations.py:136\u001b[0m, in \u001b[0;36mpartial_correlation_matrix\u001b[1;34m(corr_matrix)\u001b[0m\n\u001b[0;32m    133\u001b[0m \u001b[38;5;28;01mdef\u001b[39;00m \u001b[38;5;21mpartial_correlation_matrix\u001b[39m(corr_matrix: DataFrame) \u001b[38;5;241m-\u001b[39m\u001b[38;5;241m>\u001b[39m DataFrame:\n\u001b[0;32m    134\u001b[0m \u001b[38;5;250m    \u001b[39m\u001b[38;5;124;03m\"\"\"Returns the matrix of full order partial correlations.\u001b[39;00m\n\u001b[0;32m    135\u001b[0m \u001b[38;5;124;03m    Uses the covariance matrix inversion method.\"\"\"\u001b[39;00m\n\u001b[1;32m--> 136\u001b[0m     inv_corr_matrix \u001b[38;5;241m=\u001b[39m \u001b[43mnp\u001b[49m\u001b[38;5;241;43m.\u001b[39;49m\u001b[43mlinalg\u001b[49m\u001b[38;5;241;43m.\u001b[39;49m\u001b[43mpinv\u001b[49m\u001b[43m(\u001b[49m\u001b[43mcorr_matrix\u001b[49m\u001b[43m)\u001b[49m\n\u001b[0;32m    137\u001b[0m     diag \u001b[38;5;241m=\u001b[39m np\u001b[38;5;241m.\u001b[39mdiag(inv_corr_matrix)\n\u001b[0;32m    138\u001b[0m     \u001b[38;5;28;01mif\u001b[39;00m np\u001b[38;5;241m.\u001b[39misnan(diag)\u001b[38;5;241m.\u001b[39many() \u001b[38;5;129;01mor\u001b[39;00m (diag \u001b[38;5;241m<\u001b[39m\u001b[38;5;241m=\u001b[39m \u001b[38;5;241m0\u001b[39m)\u001b[38;5;241m.\u001b[39many():\n",
      "File \u001b[1;32m<__array_function__ internals>:5\u001b[0m, in \u001b[0;36mpinv\u001b[1;34m(*args, **kwargs)\u001b[0m\n",
      "File \u001b[1;32mc:\\Users\\bened\\AppData\\Local\\Programs\\Python\\Python38\\lib\\site-packages\\numpy\\linalg\\linalg.py:2002\u001b[0m, in \u001b[0;36mpinv\u001b[1;34m(a, rcond, hermitian)\u001b[0m\n\u001b[0;32m   2000\u001b[0m     \u001b[38;5;28;01mreturn\u001b[39;00m wrap(res)\n\u001b[0;32m   2001\u001b[0m a \u001b[38;5;241m=\u001b[39m a\u001b[38;5;241m.\u001b[39mconjugate()\n\u001b[1;32m-> 2002\u001b[0m u, s, vt \u001b[38;5;241m=\u001b[39m \u001b[43msvd\u001b[49m\u001b[43m(\u001b[49m\u001b[43ma\u001b[49m\u001b[43m,\u001b[49m\u001b[43m \u001b[49m\u001b[43mfull_matrices\u001b[49m\u001b[38;5;241;43m=\u001b[39;49m\u001b[38;5;28;43;01mFalse\u001b[39;49;00m\u001b[43m,\u001b[49m\u001b[43m \u001b[49m\u001b[43mhermitian\u001b[49m\u001b[38;5;241;43m=\u001b[39;49m\u001b[43mhermitian\u001b[49m\u001b[43m)\u001b[49m\n\u001b[0;32m   2004\u001b[0m \u001b[38;5;66;03m# discard small singular values\u001b[39;00m\n\u001b[0;32m   2005\u001b[0m cutoff \u001b[38;5;241m=\u001b[39m rcond[\u001b[38;5;241m.\u001b[39m\u001b[38;5;241m.\u001b[39m\u001b[38;5;241m.\u001b[39m, newaxis] \u001b[38;5;241m*\u001b[39m amax(s, axis\u001b[38;5;241m=\u001b[39m\u001b[38;5;241m-\u001b[39m\u001b[38;5;241m1\u001b[39m, keepdims\u001b[38;5;241m=\u001b[39m\u001b[38;5;28;01mTrue\u001b[39;00m)\n",
      "File \u001b[1;32m<__array_function__ internals>:5\u001b[0m, in \u001b[0;36msvd\u001b[1;34m(*args, **kwargs)\u001b[0m\n",
      "File \u001b[1;32mc:\\Users\\bened\\AppData\\Local\\Programs\\Python\\Python38\\lib\\site-packages\\numpy\\linalg\\linalg.py:1660\u001b[0m, in \u001b[0;36msvd\u001b[1;34m(a, full_matrices, compute_uv, hermitian)\u001b[0m\n\u001b[0;32m   1657\u001b[0m         gufunc \u001b[38;5;241m=\u001b[39m _umath_linalg\u001b[38;5;241m.\u001b[39msvd_n_s\n\u001b[0;32m   1659\u001b[0m signature \u001b[38;5;241m=\u001b[39m \u001b[38;5;124m'\u001b[39m\u001b[38;5;124mD->DdD\u001b[39m\u001b[38;5;124m'\u001b[39m \u001b[38;5;28;01mif\u001b[39;00m isComplexType(t) \u001b[38;5;28;01melse\u001b[39;00m \u001b[38;5;124m'\u001b[39m\u001b[38;5;124md->ddd\u001b[39m\u001b[38;5;124m'\u001b[39m\n\u001b[1;32m-> 1660\u001b[0m u, s, vh \u001b[38;5;241m=\u001b[39m \u001b[43mgufunc\u001b[49m\u001b[43m(\u001b[49m\u001b[43ma\u001b[49m\u001b[43m,\u001b[49m\u001b[43m \u001b[49m\u001b[43msignature\u001b[49m\u001b[38;5;241;43m=\u001b[39;49m\u001b[43msignature\u001b[49m\u001b[43m,\u001b[49m\u001b[43m \u001b[49m\u001b[43mextobj\u001b[49m\u001b[38;5;241;43m=\u001b[39;49m\u001b[43mextobj\u001b[49m\u001b[43m)\u001b[49m\n\u001b[0;32m   1661\u001b[0m u \u001b[38;5;241m=\u001b[39m u\u001b[38;5;241m.\u001b[39mastype(result_t, copy\u001b[38;5;241m=\u001b[39m\u001b[38;5;28;01mFalse\u001b[39;00m)\n\u001b[0;32m   1662\u001b[0m s \u001b[38;5;241m=\u001b[39m s\u001b[38;5;241m.\u001b[39mastype(_realType(result_t), copy\u001b[38;5;241m=\u001b[39m\u001b[38;5;28;01mFalse\u001b[39;00m)\n",
      "File \u001b[1;32mc:\\Users\\bened\\AppData\\Local\\Programs\\Python\\Python38\\lib\\site-packages\\numpy\\linalg\\linalg.py:97\u001b[0m, in \u001b[0;36m_raise_linalgerror_svd_nonconvergence\u001b[1;34m(err, flag)\u001b[0m\n\u001b[0;32m     96\u001b[0m \u001b[38;5;28;01mdef\u001b[39;00m \u001b[38;5;21m_raise_linalgerror_svd_nonconvergence\u001b[39m(err, flag):\n\u001b[1;32m---> 97\u001b[0m     \u001b[38;5;28;01mraise\u001b[39;00m LinAlgError(\u001b[38;5;124m\"\u001b[39m\u001b[38;5;124mSVD did not converge\u001b[39m\u001b[38;5;124m\"\u001b[39m)\n",
      "\u001b[1;31mLinAlgError\u001b[0m: SVD did not converge"
     ]
    }
   ],
   "source": [
    "result = dq.evaluate()"
   ]
  },
  {
   "cell_type": "code",
   "execution_count": null,
   "metadata": {},
   "outputs": [],
   "source": []
  }
 ],
 "metadata": {
  "kernelspec": {
   "display_name": "Python 3 (ipykernel)",
   "language": "python",
   "name": "python3"
  },
  "language_info": {
   "codemirror_mode": {
    "name": "ipython",
    "version": 3
   },
   "file_extension": ".py",
   "mimetype": "text/x-python",
   "name": "python",
   "nbconvert_exporter": "python",
   "pygments_lexer": "ipython3",
   "version": "3.8.6"
  }
 },
 "nbformat": 4,
 "nbformat_minor": 2
}
